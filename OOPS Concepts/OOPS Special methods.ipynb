{
 "cells": [
  {
   "cell_type": "code",
   "execution_count": 15,
   "id": "8c59cfb0",
   "metadata": {},
   "outputs": [],
   "source": [
    "class sample():\n",
    "    \n",
    "    def __init__(self, name, degree, cgpa):\n",
    "        self.name = name\n",
    "        self.degree = degree\n",
    "        self.cgpa = cgpa        \n",
    "    \n",
    "    # These are the special methods while dealing with the class objects\n",
    "    \n",
    "    def __str__(self):   # Used for str typecasting\n",
    "        return f\"{self.name} has studied {self.degree} and scored cgpa of {self.cgpa}\"\n",
    "    \n",
    "    def __len__(self):   # Used to find the length\n",
    "        return int(self.cgpa)\n",
    "    \n",
    "    def __del__(self):   # used to delete the object\n",
    "        print(\"Class object has been deleted\")\n",
    "    "
   ]
  },
  {
   "cell_type": "code",
   "execution_count": 16,
   "id": "04287050",
   "metadata": {},
   "outputs": [
    {
     "name": "stdout",
     "output_type": "stream",
     "text": [
      "Class object has been deleted\n"
     ]
    }
   ],
   "source": [
    "b = sample(\"Karthick\",\"B.E\",8.17)"
   ]
  },
  {
   "cell_type": "code",
   "execution_count": 17,
   "id": "f9689633",
   "metadata": {},
   "outputs": [
    {
     "name": "stdout",
     "output_type": "stream",
     "text": [
      "Karthick has studied B.E and scored cgpa of 8.17\n"
     ]
    }
   ],
   "source": [
    "print(b)"
   ]
  },
  {
   "cell_type": "code",
   "execution_count": 18,
   "id": "6fa812e8",
   "metadata": {},
   "outputs": [
    {
     "data": {
      "text/plain": [
       "8"
      ]
     },
     "execution_count": 18,
     "metadata": {},
     "output_type": "execute_result"
    }
   ],
   "source": [
    "len(b)"
   ]
  },
  {
   "cell_type": "code",
   "execution_count": 19,
   "id": "054949c8",
   "metadata": {},
   "outputs": [
    {
     "data": {
      "text/plain": [
       "'Karthick has studied B.E and scored cgpa of 8.17'"
      ]
     },
     "execution_count": 19,
     "metadata": {},
     "output_type": "execute_result"
    }
   ],
   "source": [
    "str(b)"
   ]
  },
  {
   "cell_type": "code",
   "execution_count": null,
   "id": "bb2b1378",
   "metadata": {},
   "outputs": [],
   "source": []
  }
 ],
 "metadata": {
  "kernelspec": {
   "display_name": "Python 3 (ipykernel)",
   "language": "python",
   "name": "python3"
  },
  "language_info": {
   "codemirror_mode": {
    "name": "ipython",
    "version": 3
   },
   "file_extension": ".py",
   "mimetype": "text/x-python",
   "name": "python",
   "nbconvert_exporter": "python",
   "pygments_lexer": "ipython3",
   "version": "3.9.7"
  }
 },
 "nbformat": 4,
 "nbformat_minor": 5
}
