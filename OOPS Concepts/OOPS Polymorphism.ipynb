{
 "cells": [
  {
   "cell_type": "code",
   "execution_count": 3,
   "id": "95a222dd",
   "metadata": {},
   "outputs": [],
   "source": [
    "class Dog():      \n",
    "    \n",
    "    def __init__(self):\n",
    "        print(\"dog class\")\n",
    "    def sounds(self):\n",
    "        print(\"woof!!\")\n",
    "        "
   ]
  },
  {
   "cell_type": "code",
   "execution_count": 4,
   "id": "4ae48aef",
   "metadata": {},
   "outputs": [],
   "source": [
    "class Cat():      \n",
    "    \n",
    "    def __init__(self):\n",
    "        print(\"dog class\")\n",
    "    def sounds(self):   # Having same method name as the Dog() class, Here the polymorphism takes place, Rarely used topic\n",
    "        print(\"meow!!\")\n",
    "        "
   ]
  },
  {
   "cell_type": "code",
   "execution_count": 5,
   "id": "c1a8bc82",
   "metadata": {},
   "outputs": [
    {
     "name": "stdout",
     "output_type": "stream",
     "text": [
      "dog class\n"
     ]
    }
   ],
   "source": [
    "cat = Cat()"
   ]
  },
  {
   "cell_type": "code",
   "execution_count": 6,
   "id": "b0bef6e9",
   "metadata": {},
   "outputs": [
    {
     "name": "stdout",
     "output_type": "stream",
     "text": [
      "meow!!\n"
     ]
    }
   ],
   "source": [
    "cat.sounds()"
   ]
  },
  {
   "cell_type": "code",
   "execution_count": 7,
   "id": "5c40e53e",
   "metadata": {},
   "outputs": [
    {
     "name": "stdout",
     "output_type": "stream",
     "text": [
      "dog class\n"
     ]
    }
   ],
   "source": [
    "dog= Dog()"
   ]
  },
  {
   "cell_type": "code",
   "execution_count": 8,
   "id": "02aca5ba",
   "metadata": {},
   "outputs": [
    {
     "name": "stdout",
     "output_type": "stream",
     "text": [
      "woof!!\n"
     ]
    }
   ],
   "source": [
    "dog.sounds()"
   ]
  },
  {
   "cell_type": "code",
   "execution_count": 13,
   "id": "8419ee4d",
   "metadata": {},
   "outputs": [
    {
     "name": "stdout",
     "output_type": "stream",
     "text": [
      "<class '__main__.Cat'>\n",
      "meow!!\n",
      "None\n",
      "<class '__main__.Dog'>\n",
      "woof!!\n",
      "None\n"
     ]
    }
   ],
   "source": [
    "for pet in cat,dog:\n",
    "    \n",
    "    print(type(pet))\n",
    "    print(pet.sounds())"
   ]
  },
  {
   "cell_type": "code",
   "execution_count": 18,
   "id": "889be2b5",
   "metadata": {},
   "outputs": [],
   "source": [
    "def new_func(dog):   # Created new function to call the dog function\n",
    "    dog.sounds()"
   ]
  },
  {
   "cell_type": "code",
   "execution_count": 19,
   "id": "efbdb455",
   "metadata": {},
   "outputs": [
    {
     "name": "stdout",
     "output_type": "stream",
     "text": [
      "woof!!\n"
     ]
    }
   ],
   "source": [
    "new_func(dog)"
   ]
  },
  {
   "cell_type": "code",
   "execution_count": 33,
   "id": "5349cf02",
   "metadata": {},
   "outputs": [],
   "source": [
    "# Example with Abstract class\n",
    "\n",
    "class Abstract_Class():  # This class is used as Base class and It's not instanceated \n",
    "    \n",
    "    def __init__(self,name):\n",
    "        self.name=name\n",
    "        \n",
    "    def speak(self):   # This function implementation will be done in sub-class's\n",
    "        raise NotImplementedError(\"Subclass must implement this abstract method\")\n",
    "            "
   ]
  },
  {
   "cell_type": "code",
   "execution_count": 34,
   "id": "068081f5",
   "metadata": {},
   "outputs": [],
   "source": [
    "abst = Abstract_Class('Dog')"
   ]
  },
  {
   "cell_type": "code",
   "execution_count": 35,
   "id": "76bde79a",
   "metadata": {},
   "outputs": [
    {
     "ename": "NotImplementedError",
     "evalue": "Subclass must implement this abstract method",
     "output_type": "error",
     "traceback": [
      "\u001b[1;31m---------------------------------------------------------------------------\u001b[0m",
      "\u001b[1;31mNotImplementedError\u001b[0m                       Traceback (most recent call last)",
      "\u001b[1;32m~\\AppData\\Local\\Temp/ipykernel_13744/1787096014.py\u001b[0m in \u001b[0;36m<module>\u001b[1;34m\u001b[0m\n\u001b[1;32m----> 1\u001b[1;33m \u001b[0mabst\u001b[0m\u001b[1;33m.\u001b[0m\u001b[0mspeak\u001b[0m\u001b[1;33m(\u001b[0m\u001b[1;33m)\u001b[0m\u001b[1;33m\u001b[0m\u001b[1;33m\u001b[0m\u001b[0m\n\u001b[0m",
      "\u001b[1;32m~\\AppData\\Local\\Temp/ipykernel_13744/2135021679.py\u001b[0m in \u001b[0;36mspeak\u001b[1;34m(self)\u001b[0m\n\u001b[0;32m      7\u001b[0m \u001b[1;33m\u001b[0m\u001b[0m\n\u001b[0;32m      8\u001b[0m     \u001b[1;32mdef\u001b[0m \u001b[0mspeak\u001b[0m\u001b[1;33m(\u001b[0m\u001b[0mself\u001b[0m\u001b[1;33m)\u001b[0m\u001b[1;33m:\u001b[0m\u001b[1;33m\u001b[0m\u001b[1;33m\u001b[0m\u001b[0m\n\u001b[1;32m----> 9\u001b[1;33m         \u001b[1;32mraise\u001b[0m \u001b[0mNotImplementedError\u001b[0m\u001b[1;33m(\u001b[0m\u001b[1;34m\"Subclass must implement this abstract method\"\u001b[0m\u001b[1;33m)\u001b[0m\u001b[1;33m\u001b[0m\u001b[1;33m\u001b[0m\u001b[0m\n\u001b[0m\u001b[0;32m     10\u001b[0m \u001b[1;33m\u001b[0m\u001b[0m\n",
      "\u001b[1;31mNotImplementedError\u001b[0m: Subclass must implement this abstract method"
     ]
    }
   ],
   "source": [
    "abst.speak()"
   ]
  },
  {
   "cell_type": "code",
   "execution_count": 39,
   "id": "9904956f",
   "metadata": {},
   "outputs": [],
   "source": [
    "class Sub_Class1(Abstract_Class):   # sub-class with the speak() function implementation\n",
    "    \n",
    "    def speak(self):\n",
    "        print(\"sub_class1\")\n",
    "    "
   ]
  },
  {
   "cell_type": "code",
   "execution_count": 40,
   "id": "1ee65d38",
   "metadata": {},
   "outputs": [],
   "source": [
    "class Sub_Class2(Abstract_Class):    # sub-class with the speak() function implementation\n",
    "    \n",
    "    def speak(self):\n",
    "        print(\"sub_class2\")"
   ]
  },
  {
   "cell_type": "code",
   "execution_count": 43,
   "id": "1697dc79",
   "metadata": {},
   "outputs": [],
   "source": [
    "sb1 = Sub_Class1(\"sub1\")"
   ]
  },
  {
   "cell_type": "code",
   "execution_count": 44,
   "id": "da4a06ab",
   "metadata": {},
   "outputs": [
    {
     "name": "stdout",
     "output_type": "stream",
     "text": [
      "sub_class1\n"
     ]
    }
   ],
   "source": [
    "sb1.speak()"
   ]
  },
  {
   "cell_type": "code",
   "execution_count": 45,
   "id": "7f0e7956",
   "metadata": {},
   "outputs": [],
   "source": [
    "sb2 = Sub_Class2(\"sub2\")"
   ]
  },
  {
   "cell_type": "code",
   "execution_count": 46,
   "id": "20b1535a",
   "metadata": {},
   "outputs": [
    {
     "name": "stdout",
     "output_type": "stream",
     "text": [
      "sub_class2\n"
     ]
    }
   ],
   "source": [
    "sb2.speak()"
   ]
  },
  {
   "cell_type": "code",
   "execution_count": null,
   "id": "0dca8505",
   "metadata": {},
   "outputs": [],
   "source": []
  }
 ],
 "metadata": {
  "kernelspec": {
   "display_name": "Python 3 (ipykernel)",
   "language": "python",
   "name": "python3"
  },
  "language_info": {
   "codemirror_mode": {
    "name": "ipython",
    "version": 3
   },
   "file_extension": ".py",
   "mimetype": "text/x-python",
   "name": "python",
   "nbconvert_exporter": "python",
   "pygments_lexer": "ipython3",
   "version": "3.9.7"
  }
 },
 "nbformat": 4,
 "nbformat_minor": 5
}
