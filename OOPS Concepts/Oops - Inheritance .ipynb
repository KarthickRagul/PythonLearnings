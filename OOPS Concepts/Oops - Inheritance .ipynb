{
 "cells": [
  {
   "cell_type": "code",
   "execution_count": 1,
   "id": "e0639825",
   "metadata": {},
   "outputs": [],
   "source": [
    "class Animal():\n",
    "    \n",
    "    def __init__(self):   # this is like a constructor\n",
    "        print(\"Animal class created\")\n",
    "    \n",
    "    def whos_this(self):\n",
    "        print(\"I am an animal\")\n",
    "        \n",
    "    def eat(self):\n",
    "        print(\"I can eat\")"
   ]
  },
  {
   "cell_type": "code",
   "execution_count": 2,
   "id": "ca271be7",
   "metadata": {},
   "outputs": [
    {
     "name": "stdout",
     "output_type": "stream",
     "text": [
      "Animal class created\n"
     ]
    }
   ],
   "source": [
    "ani = Animal()   # Instance creation"
   ]
  },
  {
   "cell_type": "code",
   "execution_count": 3,
   "id": "38f9e0cd",
   "metadata": {},
   "outputs": [
    {
     "name": "stdout",
     "output_type": "stream",
     "text": [
      "I am an animal\n"
     ]
    }
   ],
   "source": [
    "ani.whos_this()  # function call"
   ]
  },
  {
   "cell_type": "code",
   "execution_count": 4,
   "id": "53790ce3",
   "metadata": {},
   "outputs": [
    {
     "name": "stdout",
     "output_type": "stream",
     "text": [
      "I can eat\n"
     ]
    }
   ],
   "source": [
    "ani.eat()"
   ]
  },
  {
   "cell_type": "code",
   "execution_count": 18,
   "id": "8a694ec5",
   "metadata": {},
   "outputs": [],
   "source": [
    "class Cow(Animal):    # Here Animal class is base class, Cow class inherited animal class\n",
    "    \n",
    "    def __init__(self):\n",
    "        print(\"Cow created\")\n",
    "      \n",
    "    def sleep(self):    # We can add new methods \n",
    "        print(\"Cow can sleep\")\n",
    "    \n",
    "    def eat(self):   # We can overwrite the method of base class\n",
    "        print(\"Cow can eat\")"
   ]
  },
  {
   "cell_type": "code",
   "execution_count": 19,
   "id": "0f8d56ed",
   "metadata": {},
   "outputs": [
    {
     "name": "stdout",
     "output_type": "stream",
     "text": [
      "Cow created\n"
     ]
    }
   ],
   "source": [
    "cow =Cow() "
   ]
  },
  {
   "cell_type": "code",
   "execution_count": 20,
   "id": "81d473af",
   "metadata": {},
   "outputs": [
    {
     "name": "stdout",
     "output_type": "stream",
     "text": [
      "Cow can sleep\n"
     ]
    }
   ],
   "source": [
    "cow.sleep()"
   ]
  },
  {
   "cell_type": "code",
   "execution_count": 21,
   "id": "370e0c8f",
   "metadata": {},
   "outputs": [
    {
     "name": "stdout",
     "output_type": "stream",
     "text": [
      "Cow can eat\n"
     ]
    }
   ],
   "source": [
    "cow.eat()    # Here we are calling the function in the base class using the subclass instances"
   ]
  },
  {
   "cell_type": "code",
   "execution_count": 22,
   "id": "549b04ae",
   "metadata": {},
   "outputs": [
    {
     "name": "stdout",
     "output_type": "stream",
     "text": [
      "Animal class created\n"
     ]
    }
   ],
   "source": [
    "animal = Animal()"
   ]
  },
  {
   "cell_type": "code",
   "execution_count": 23,
   "id": "f8d96ded",
   "metadata": {},
   "outputs": [
    {
     "name": "stdout",
     "output_type": "stream",
     "text": [
      "I can eat\n"
     ]
    }
   ],
   "source": [
    "animal.eat()"
   ]
  },
  {
   "cell_type": "code",
   "execution_count": 35,
   "id": "6cf8276e",
   "metadata": {},
   "outputs": [],
   "source": [
    "# Example \n",
    "\n",
    "\n",
    "class Base_Class():\n",
    "    \n",
    "    def __init__(self):\n",
    "        print(\"Base is created\")\n",
    "    \n",
    "    def base_class_function1(self):\n",
    "        print(\"Calling the base function1\")\n",
    "        \n",
    "    def base_class_function2(self):\n",
    "        print(\"Calling the base function2\")"
   ]
  },
  {
   "cell_type": "code",
   "execution_count": 36,
   "id": "5e65d9dd",
   "metadata": {},
   "outputs": [
    {
     "name": "stdout",
     "output_type": "stream",
     "text": [
      "Base is created\n"
     ]
    }
   ],
   "source": [
    "base = Base_Class()   # Instance creation"
   ]
  },
  {
   "cell_type": "code",
   "execution_count": 37,
   "id": "3b5706e1",
   "metadata": {},
   "outputs": [
    {
     "name": "stdout",
     "output_type": "stream",
     "text": [
      "Calling the base function1\n"
     ]
    }
   ],
   "source": [
    "base.base_class_function1()"
   ]
  },
  {
   "cell_type": "code",
   "execution_count": 38,
   "id": "1d357893",
   "metadata": {},
   "outputs": [
    {
     "name": "stdout",
     "output_type": "stream",
     "text": [
      "Calling the base function2\n"
     ]
    }
   ],
   "source": [
    "base.base_class_function2()"
   ]
  },
  {
   "cell_type": "code",
   "execution_count": 39,
   "id": "38441718",
   "metadata": {},
   "outputs": [],
   "source": [
    "class Child_Class(Base_Class):  # Here it is inherting the base class\n",
    "    \n",
    "    def __init__(self):\n",
    "        print(\"Child is created\")\n",
    "    \n",
    "    def child_class_function(self):\n",
    "        print(\"Calling child class function\")\n",
    "    \n",
    "    def base_class_function2(self):  \n",
    "        print(\"Here we are overwriting base class function\")\n",
    "        \n",
    "        "
   ]
  },
  {
   "cell_type": "code",
   "execution_count": 40,
   "id": "9eb149fd",
   "metadata": {
    "scrolled": true
   },
   "outputs": [
    {
     "name": "stdout",
     "output_type": "stream",
     "text": [
      "Child is created\n"
     ]
    }
   ],
   "source": [
    "child = Child_Class()"
   ]
  },
  {
   "cell_type": "code",
   "execution_count": 41,
   "id": "e69d5ad1",
   "metadata": {},
   "outputs": [
    {
     "name": "stdout",
     "output_type": "stream",
     "text": [
      "Calling the base function1\n"
     ]
    }
   ],
   "source": [
    "child.base_class_function1()"
   ]
  },
  {
   "cell_type": "code",
   "execution_count": 42,
   "id": "903c25b8",
   "metadata": {},
   "outputs": [
    {
     "name": "stdout",
     "output_type": "stream",
     "text": [
      "Here we are overwriting base class function\n"
     ]
    }
   ],
   "source": [
    "child.base_class_function2()   "
   ]
  },
  {
   "cell_type": "code",
   "execution_count": 43,
   "id": "9ef2738a",
   "metadata": {},
   "outputs": [
    {
     "name": "stdout",
     "output_type": "stream",
     "text": [
      "Calling child class function\n"
     ]
    }
   ],
   "source": [
    "child.child_class_function()"
   ]
  },
  {
   "cell_type": "code",
   "execution_count": null,
   "id": "ac2ac2f4",
   "metadata": {},
   "outputs": [],
   "source": []
  }
 ],
 "metadata": {
  "kernelspec": {
   "display_name": "Python 3 (ipykernel)",
   "language": "python",
   "name": "python3"
  },
  "language_info": {
   "codemirror_mode": {
    "name": "ipython",
    "version": 3
   },
   "file_extension": ".py",
   "mimetype": "text/x-python",
   "name": "python",
   "nbconvert_exporter": "python",
   "pygments_lexer": "ipython3",
   "version": "3.9.7"
  }
 },
 "nbformat": 4,
 "nbformat_minor": 5
}
