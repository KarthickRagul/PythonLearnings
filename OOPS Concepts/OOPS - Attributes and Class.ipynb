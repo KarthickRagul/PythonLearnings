{
 "cells": [
  {
   "cell_type": "code",
   "execution_count": 41,
   "id": "0ebfe5fe",
   "metadata": {},
   "outputs": [],
   "source": [
    "class Test():\n",
    "    # Class object attribute \n",
    "    tag='student'\n",
    "    \n",
    "    def __init__(self,name,subject,mark):\n",
    "        \n",
    "        # Attributes \n",
    "        # We take in the argument \n",
    "        # Assign it using self.attribute_name\n",
    "        \n",
    "        self.name=name\n",
    "        self.subject=subject\n",
    "        self.mark=mark\n",
    "        \n",
    "    def rank(self):\n",
    "        #print(self.name,\"is Third Rank.\\tHe scored\",self.mark,\"in\",self.subject)\n",
    "        print(\"{} is Third Rank.\\tHe scored {} in {}\".format(self.name,self.mark,self.subject))"
   ]
  },
  {
   "cell_type": "code",
   "execution_count": 42,
   "id": "774d94d3",
   "metadata": {},
   "outputs": [],
   "source": [
    "my_test = Test('Karthick','Maths',100)   # thisis the instance of the class Test"
   ]
  },
  {
   "cell_type": "code",
   "execution_count": 43,
   "id": "4dac38c1",
   "metadata": {},
   "outputs": [
    {
     "data": {
      "text/plain": [
       "'Karthick'"
      ]
     },
     "execution_count": 43,
     "metadata": {},
     "output_type": "execute_result"
    }
   ],
   "source": [
    "my_test.name   # Attributes"
   ]
  },
  {
   "cell_type": "code",
   "execution_count": 44,
   "id": "4160ba95",
   "metadata": {},
   "outputs": [
    {
     "data": {
      "text/plain": [
       "100"
      ]
     },
     "execution_count": 44,
     "metadata": {},
     "output_type": "execute_result"
    }
   ],
   "source": [
    "my_test.mark    # Attributes"
   ]
  },
  {
   "cell_type": "code",
   "execution_count": 45,
   "id": "1776215d",
   "metadata": {},
   "outputs": [
    {
     "data": {
      "text/plain": [
       "__main__.Test"
      ]
     },
     "execution_count": 45,
     "metadata": {},
     "output_type": "execute_result"
    }
   ],
   "source": [
    "type(my_test)"
   ]
  },
  {
   "cell_type": "code",
   "execution_count": 46,
   "id": "3e8dcd7d",
   "metadata": {},
   "outputs": [
    {
     "data": {
      "text/plain": [
       "'student'"
      ]
     },
     "execution_count": 46,
     "metadata": {},
     "output_type": "execute_result"
    }
   ],
   "source": [
    "my_test.tag"
   ]
  },
  {
   "cell_type": "code",
   "execution_count": 47,
   "id": "6ee35296",
   "metadata": {},
   "outputs": [
    {
     "name": "stdout",
     "output_type": "stream",
     "text": [
      "Karthick is Third Rank.\tHe scored 100 in Maths\n"
     ]
    }
   ],
   "source": [
    "my_test.rank()"
   ]
  },
  {
   "cell_type": "code",
   "execution_count": 57,
   "id": "6e5c7d99",
   "metadata": {},
   "outputs": [],
   "source": [
    "class Employee():\n",
    "    \n",
    "    def __init__(self, name, salary):\n",
    "        self.salary=salary    # Attributes\n",
    "        self.name=name\n",
    "        \n",
    "    def get_tax(self):     # Methods\n",
    "        print(\"{}'s tax amount is {}\".format(self.name, self.salary * 0.05))"
   ]
  },
  {
   "cell_type": "code",
   "execution_count": 58,
   "id": "780ae2f1",
   "metadata": {},
   "outputs": [],
   "source": [
    "emp = Employee('Karthick',30000)"
   ]
  },
  {
   "cell_type": "code",
   "execution_count": 59,
   "id": "47905c4f",
   "metadata": {},
   "outputs": [
    {
     "name": "stdout",
     "output_type": "stream",
     "text": [
      "Karthick's tax amount is 1500.0\n"
     ]
    }
   ],
   "source": [
    "emp.get_tax()"
   ]
  },
  {
   "cell_type": "code",
   "execution_count": 36,
   "id": "33f03b52",
   "metadata": {},
   "outputs": [],
   "source": [
    "# Example 3\n",
    "\n",
    "\n",
    "class Employee():\n",
    "    \n",
    "    tax_rate = 0.05\n",
    "    \n",
    "    def __init__(self, name, salary):\n",
    "        self.name=name     # These are attributes\n",
    "        self.salary=salary\n",
    "        \n",
    "    def tax(self, year):  # Method used to calculate the tax\n",
    "        total_tax=self.tax_rate * self.salary\n",
    "        print(\"{}'s Total tax amount will be : {} for the year of {}\".format(self.name, total_tax,year))"
   ]
  },
  {
   "cell_type": "code",
   "execution_count": 37,
   "id": "54b4543c",
   "metadata": {},
   "outputs": [],
   "source": [
    "emp=Employee('Karthick', 60000)"
   ]
  },
  {
   "cell_type": "code",
   "execution_count": 38,
   "id": "89dfcbe2",
   "metadata": {},
   "outputs": [
    {
     "data": {
      "text/plain": [
       "'Karthick'"
      ]
     },
     "execution_count": 38,
     "metadata": {},
     "output_type": "execute_result"
    }
   ],
   "source": [
    "emp.name"
   ]
  },
  {
   "cell_type": "code",
   "execution_count": 39,
   "id": "521de418",
   "metadata": {},
   "outputs": [
    {
     "data": {
      "text/plain": [
       "60000"
      ]
     },
     "execution_count": 39,
     "metadata": {},
     "output_type": "execute_result"
    }
   ],
   "source": [
    "emp.salary"
   ]
  },
  {
   "cell_type": "code",
   "execution_count": 40,
   "id": "0771a265",
   "metadata": {},
   "outputs": [
    {
     "name": "stdout",
     "output_type": "stream",
     "text": [
      "Karthick's Total tax amount will be : 3000.0 for the year of 2022\n"
     ]
    }
   ],
   "source": [
    "emp.tax(2022)"
   ]
  },
  {
   "cell_type": "code",
   "execution_count": null,
   "id": "791e5e57",
   "metadata": {},
   "outputs": [],
   "source": []
  }
 ],
 "metadata": {
  "kernelspec": {
   "display_name": "Python 3 (ipykernel)",
   "language": "python",
   "name": "python3"
  },
  "language_info": {
   "codemirror_mode": {
    "name": "ipython",
    "version": 3
   },
   "file_extension": ".py",
   "mimetype": "text/x-python",
   "name": "python",
   "nbconvert_exporter": "python",
   "pygments_lexer": "ipython3",
   "version": "3.9.7"
  }
 },
 "nbformat": 4,
 "nbformat_minor": 5
}
