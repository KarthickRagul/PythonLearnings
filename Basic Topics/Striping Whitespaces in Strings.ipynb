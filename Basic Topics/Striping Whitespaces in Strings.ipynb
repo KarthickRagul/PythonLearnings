{
 "cells": [
  {
   "cell_type": "code",
   "execution_count": 2,
   "id": "ed1688d4",
   "metadata": {},
   "outputs": [],
   "source": [
    "#We can remove the whitespaces in Strings with the help of the strip() functions. This will help us in manipulation of strings"
   ]
  },
  {
   "cell_type": "code",
   "execution_count": 8,
   "id": "524258d1",
   "metadata": {},
   "outputs": [
    {
     "name": "stdout",
     "output_type": "stream",
     "text": [
      "sample\n",
      "sample  \n"
     ]
    }
   ],
   "source": [
    "variable ='sample_right '\n",
    "\n",
    "print(variable.rstrip()) # This is rstrip() function, it is used to remove the whitespaces in the right side of the string\n",
    "print(variable)  # Variable value will remains same with the whitespace as we are not storing the rstrip() value to the variable"
   ]
  },
  {
   "cell_type": "code",
   "execution_count": 9,
   "id": "66711d85",
   "metadata": {},
   "outputs": [
    {
     "name": "stdout",
     "output_type": "stream",
     "text": [
      "sample_left\n",
      " sample_left\n"
     ]
    }
   ],
   "source": [
    "variable = ' sample_left'\n",
    "\n",
    "print(variable.lstrip())  # This is lstrip() function, it is used to remove the whitespaces in the left side of the string\n",
    "print(variable) # Variable value will remains same with the whitespace as we are not storing the lstrip() value to the variable"
   ]
  },
  {
   "cell_type": "code",
   "execution_count": 11,
   "id": "a7ad67fa",
   "metadata": {},
   "outputs": [
    {
     "name": "stdout",
     "output_type": "stream",
     "text": [
      "strip_sample\n",
      "  strip_sample  \n"
     ]
    }
   ],
   "source": [
    "variable = '  strip_sample  '\n",
    "\n",
    "print(variable.strip()) # This is strip() function, It is used to remove the whitespaces in left and right of the string\n",
    "print(variable) # Variable value will remains same with the whitespace as we are not storing the strip() value to the variable"
   ]
  },
  {
   "cell_type": "code",
   "execution_count": null,
   "id": "b41d0661",
   "metadata": {},
   "outputs": [],
   "source": []
  }
 ],
 "metadata": {
  "kernelspec": {
   "display_name": "Python 3 (ipykernel)",
   "language": "python",
   "name": "python3"
  },
  "language_info": {
   "codemirror_mode": {
    "name": "ipython",
    "version": 3
   },
   "file_extension": ".py",
   "mimetype": "text/x-python",
   "name": "python",
   "nbconvert_exporter": "python",
   "pygments_lexer": "ipython3",
   "version": "3.9.7"
  }
 },
 "nbformat": 4,
 "nbformat_minor": 5
}
