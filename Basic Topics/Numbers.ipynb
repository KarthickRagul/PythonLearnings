{
 "cells": [
  {
   "cell_type": "markdown",
   "id": "c960de39",
   "metadata": {},
   "source": [
    "Example for Numbers in Python"
   ]
  },
  {
   "cell_type": "code",
   "execution_count": 1,
   "id": "e7f509bb",
   "metadata": {},
   "outputs": [
    {
     "data": {
      "text/plain": [
       "3"
      ]
     },
     "execution_count": 1,
     "metadata": {},
     "output_type": "execute_result"
    }
   ],
   "source": [
    "2+1"
   ]
  },
  {
   "cell_type": "code",
   "execution_count": 2,
   "id": "25f356e7",
   "metadata": {},
   "outputs": [
    {
     "data": {
      "text/plain": [
       "1"
      ]
     },
     "execution_count": 2,
     "metadata": {},
     "output_type": "execute_result"
    }
   ],
   "source": [
    "2-1\n"
   ]
  },
  {
   "cell_type": "code",
   "execution_count": 3,
   "id": "763096e1",
   "metadata": {},
   "outputs": [
    {
     "data": {
      "text/plain": [
       "-1"
      ]
     },
     "execution_count": 3,
     "metadata": {},
     "output_type": "execute_result"
    }
   ],
   "source": [
    "-3+2"
   ]
  },
  {
   "cell_type": "code",
   "execution_count": 6,
   "id": "7f19635e",
   "metadata": {},
   "outputs": [
    {
     "data": {
      "text/plain": [
       "2.5"
      ]
     },
     "execution_count": 6,
     "metadata": {},
     "output_type": "execute_result"
    }
   ],
   "source": [
    "5/2"
   ]
  },
  {
   "cell_type": "markdown",
   "id": "48b96d81",
   "metadata": {},
   "source": [
    "Modulo or Mod Operator (%)"
   ]
  },
  {
   "cell_type": "code",
   "execution_count": 9,
   "id": "8f69364e",
   "metadata": {},
   "outputs": [
    {
     "data": {
      "text/plain": [
       "2"
      ]
     },
     "execution_count": 9,
     "metadata": {},
     "output_type": "execute_result"
    }
   ],
   "source": [
    "5%3"
   ]
  },
  {
   "cell_type": "markdown",
   "id": "0901b94b",
   "metadata": {},
   "source": [
    "Power Operator (**)"
   ]
  },
  {
   "cell_type": "code",
   "execution_count": 8,
   "id": "2752a0a4",
   "metadata": {},
   "outputs": [
    {
     "data": {
      "text/plain": [
       "27"
      ]
     },
     "execution_count": 8,
     "metadata": {},
     "output_type": "execute_result"
    }
   ],
   "source": [
    "3 ** 3\n"
   ]
  },
  {
   "cell_type": "markdown",
   "id": "1083346d",
   "metadata": {},
   "source": [
    "Importance of brackets"
   ]
  },
  {
   "cell_type": "code",
   "execution_count": 10,
   "id": "ef844b77",
   "metadata": {},
   "outputs": [
    {
     "data": {
      "text/plain": [
       "107"
      ]
     },
     "execution_count": 10,
     "metadata": {},
     "output_type": "execute_result"
    }
   ],
   "source": [
    "2 + 10 * 10 +5"
   ]
  },
  {
   "cell_type": "code",
   "execution_count": 11,
   "id": "e3b22bf2",
   "metadata": {},
   "outputs": [
    {
     "data": {
      "text/plain": [
       "180"
      ]
     },
     "execution_count": 11,
     "metadata": {},
     "output_type": "execute_result"
    }
   ],
   "source": [
    "(2 + 10) * (10+ 5)"
   ]
  },
  {
   "cell_type": "code",
   "execution_count": 13,
   "id": "7ebb71ed",
   "metadata": {},
   "outputs": [
    {
     "data": {
      "text/plain": [
       "0.5"
      ]
     },
     "execution_count": 13,
     "metadata": {},
     "output_type": "execute_result"
    }
   ],
   "source": [
    "1 / 2\n"
   ]
  },
  {
   "cell_type": "code",
   "execution_count": null,
   "id": "376f0775",
   "metadata": {},
   "outputs": [],
   "source": []
  }
 ],
 "metadata": {
  "kernelspec": {
   "display_name": "Python 3 (ipykernel)",
   "language": "python",
   "name": "python3"
  },
  "language_info": {
   "codemirror_mode": {
    "name": "ipython",
    "version": 3
   },
   "file_extension": ".py",
   "mimetype": "text/x-python",
   "name": "python",
   "nbconvert_exporter": "python",
   "pygments_lexer": "ipython3",
   "version": "3.9.7"
  }
 },
 "nbformat": 4,
 "nbformat_minor": 5
}
