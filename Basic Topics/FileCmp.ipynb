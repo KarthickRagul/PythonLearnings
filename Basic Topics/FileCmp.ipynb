{
 "cells": [
  {
   "cell_type": "code",
   "execution_count": 11,
   "id": "a140c9a7",
   "metadata": {},
   "outputs": [
    {
     "name": "stdout",
     "output_type": "stream",
     "text": [
      "True\n",
      "True\n"
     ]
    }
   ],
   "source": [
    "import filecmp\n",
    "\n",
    "file1=\"D:\\SSIS Source Files\\ExportCSV3.csv\"\n",
    "file2=\"D:\\SSIS Source Files\\ExportCSV2.csv\"\n",
    "\n",
    "result=filecmp.cmp(file1,file2)\n",
    "\n",
    "print(result)\n",
    "\n",
    "result=filecmp.cmp(file1,file2,shallow=True)\n",
    "\n",
    "print(result)"
   ]
  },
  {
   "cell_type": "code",
   "execution_count": null,
   "id": "8078c409",
   "metadata": {},
   "outputs": [],
   "source": [
    "name='karthick'"
   ]
  },
  {
   "cell_type": "code",
   "execution_count": 18,
   "id": "87bd37b1",
   "metadata": {},
   "outputs": [
    {
     "data": {
      "text/plain": [
       "'t'"
      ]
     },
     "execution_count": 18,
     "metadata": {},
     "output_type": "execute_result"
    }
   ],
   "source": [
    "name[3]"
   ]
  },
  {
   "cell_type": "code",
   "execution_count": 14,
   "id": "d92302a2",
   "metadata": {},
   "outputs": [
    {
     "data": {
      "text/plain": [
       "'Karthick1'"
      ]
     },
     "execution_count": 14,
     "metadata": {},
     "output_type": "execute_result"
    }
   ],
   "source": [
    "name"
   ]
  },
  {
   "cell_type": "code",
   "execution_count": 21,
   "id": "4b9158ee",
   "metadata": {},
   "outputs": [
    {
     "name": "stdout",
     "output_type": "stream",
     "text": [
      "Enter ur age22\n",
      "I was born in 2000\n"
     ]
    }
   ],
   "source": [
    "age=input(\"Enter ur age\");\n",
    "born_month=2022-int(age)\n",
    "print(\"I was born in\",born_month);"
   ]
  },
  {
   "cell_type": "code",
   "execution_count": null,
   "id": "5be5535b",
   "metadata": {},
   "outputs": [],
   "source": []
  }
 ],
 "metadata": {
  "kernelspec": {
   "display_name": "Python 3 (ipykernel)",
   "language": "python",
   "name": "python3"
  },
  "language_info": {
   "codemirror_mode": {
    "name": "ipython",
    "version": 3
   },
   "file_extension": ".py",
   "mimetype": "text/x-python",
   "name": "python",
   "nbconvert_exporter": "python",
   "pygments_lexer": "ipython3",
   "version": "3.9.7"
  }
 },
 "nbformat": 4,
 "nbformat_minor": 5
}
