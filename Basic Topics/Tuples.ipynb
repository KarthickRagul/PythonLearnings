{
 "cells": [
  {
   "cell_type": "markdown",
   "id": "d3949aa3",
   "metadata": {},
   "source": [
    "Tuples are similar to List. Only difference is that Immutability. Elements present in the Tuples can be reassigned.\n",
    "They are mentioned in the paranthesis i.e (1,2,3,4)"
   ]
  },
  {
   "cell_type": "code",
   "execution_count": 17,
   "id": "db1cb1b8",
   "metadata": {},
   "outputs": [],
   "source": [
    "my_tuples=(1,2,2,4,'a',0.5,[1,'a',3])"
   ]
  },
  {
   "cell_type": "code",
   "execution_count": 2,
   "id": "dadde0fd",
   "metadata": {},
   "outputs": [],
   "source": [
    "my_list=[1,2,3,4]"
   ]
  },
  {
   "cell_type": "code",
   "execution_count": 12,
   "id": "3282e540",
   "metadata": {},
   "outputs": [
    {
     "data": {
      "text/plain": [
       "2"
      ]
     },
     "execution_count": 12,
     "metadata": {},
     "output_type": "execute_result"
    }
   ],
   "source": [
    "my_tuples[2]    # Similar to indexing in list"
   ]
  },
  {
   "cell_type": "code",
   "execution_count": 4,
   "id": "5ecf3e4f",
   "metadata": {},
   "outputs": [
    {
     "data": {
      "text/plain": [
       "4"
      ]
     },
     "execution_count": 4,
     "metadata": {},
     "output_type": "execute_result"
    }
   ],
   "source": [
    "my_tuples[-1]"
   ]
  },
  {
   "cell_type": "code",
   "execution_count": 6,
   "id": "84bfc3f4",
   "metadata": {},
   "outputs": [],
   "source": [
    "my_list[0]=0   # List can be muttable, but tuples cannot"
   ]
  },
  {
   "cell_type": "code",
   "execution_count": 7,
   "id": "e07bd9a3",
   "metadata": {},
   "outputs": [
    {
     "data": {
      "text/plain": [
       "[0, 2, 3, 4]"
      ]
     },
     "execution_count": 7,
     "metadata": {},
     "output_type": "execute_result"
    }
   ],
   "source": [
    "my_list"
   ]
  },
  {
   "cell_type": "code",
   "execution_count": 8,
   "id": "21bb638e",
   "metadata": {
    "scrolled": true
   },
   "outputs": [
    {
     "ename": "TypeError",
     "evalue": "'tuple' object does not support item assignment",
     "output_type": "error",
     "traceback": [
      "\u001b[1;31m---------------------------------------------------------------------------\u001b[0m",
      "\u001b[1;31mTypeError\u001b[0m                                 Traceback (most recent call last)",
      "\u001b[1;32m~\\AppData\\Local\\Temp/ipykernel_19624/2195472471.py\u001b[0m in \u001b[0;36m<module>\u001b[1;34m\u001b[0m\n\u001b[1;32m----> 1\u001b[1;33m \u001b[0mmy_tuples\u001b[0m\u001b[1;33m[\u001b[0m\u001b[1;36m0\u001b[0m\u001b[1;33m]\u001b[0m\u001b[1;33m=\u001b[0m\u001b[1;36m0\u001b[0m\u001b[1;33m\u001b[0m\u001b[1;33m\u001b[0m\u001b[0m\n\u001b[0m",
      "\u001b[1;31mTypeError\u001b[0m: 'tuple' object does not support item assignment"
     ]
    }
   ],
   "source": [
    "my_tuples[0]=0  # Tuple values cannot be reassigned,  'tuple' object does not support item assignment. Immutable"
   ]
  },
  {
   "cell_type": "code",
   "execution_count": 19,
   "id": "6b6b9d9b",
   "metadata": {},
   "outputs": [
    {
     "data": {
      "text/plain": [
       "1"
      ]
     },
     "execution_count": 19,
     "metadata": {},
     "output_type": "execute_result"
    }
   ],
   "source": [
    "my_tuples.count('a')  # This will provide the count of the mentioned element present in the tuples"
   ]
  },
  {
   "cell_type": "code",
   "execution_count": null,
   "id": "f2ee2ae1",
   "metadata": {},
   "outputs": [],
   "source": [
    "Tuples having very less no.of(only 2 as of now) built-in functions. (i.e)tuple_name.count(), tuple_name.index()"
   ]
  },
  {
   "cell_type": "code",
   "execution_count": 18,
   "id": "f1295e77",
   "metadata": {},
   "outputs": [
    {
     "data": {
      "text/plain": [
       "4"
      ]
     },
     "execution_count": 18,
     "metadata": {},
     "output_type": "execute_result"
    }
   ],
   "source": [
    "my_tuples.index('a')  # This will provide the index of the mentioned element in the tuple"
   ]
  },
  {
   "cell_type": "code",
   "execution_count": 15,
   "id": "595ce11b",
   "metadata": {},
   "outputs": [
    {
     "data": {
      "text/plain": [
       "1"
      ]
     },
     "execution_count": 15,
     "metadata": {},
     "output_type": "execute_result"
    }
   ],
   "source": [
    "my_tuples.index(2)  # This will return the first occurance of the element"
   ]
  }
 ],
 "metadata": {
  "kernelspec": {
   "display_name": "Python 3 (ipykernel)",
   "language": "python",
   "name": "python3"
  },
  "language_info": {
   "codemirror_mode": {
    "name": "ipython",
    "version": 3
   },
   "file_extension": ".py",
   "mimetype": "text/x-python",
   "name": "python",
   "nbconvert_exporter": "python",
   "pygments_lexer": "ipython3",
   "version": "3.9.7"
  }
 },
 "nbformat": 4,
 "nbformat_minor": 5
}
