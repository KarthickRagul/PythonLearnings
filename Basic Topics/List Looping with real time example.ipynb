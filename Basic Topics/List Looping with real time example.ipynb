{
 "cells": [
  {
   "cell_type": "code",
   "execution_count": 7,
   "id": "ac5f4bdb",
   "metadata": {},
   "outputs": [],
   "source": [
    "names = ['A','B','c','D','E','F']"
   ]
  },
  {
   "cell_type": "code",
   "execution_count": 12,
   "id": "10b0091f",
   "metadata": {},
   "outputs": [
    {
     "name": "stdout",
     "output_type": "stream",
     "text": [
      "A is his name\n",
      "B is his name\n",
      "C is his name\n",
      "D is his name\n",
      "E is his name\n",
      "F is his name\n"
     ]
    }
   ],
   "source": [
    "for name in names:\n",
    "    print(name.title()+\" is his name\")  # title() function will capitalize the first letter"
   ]
  },
  {
   "cell_type": "code",
   "execution_count": 23,
   "id": "9f65230a",
   "metadata": {},
   "outputs": [
    {
     "name": "stdout",
     "output_type": "stream",
     "text": [
      "Here are the different kind of bats:\n",
      "*********************************\n",
      "SS is a good bat\n",
      "CEAT is a good bat\n",
      "MRF is a good bat\n",
      "NB is a good bat\n",
      "TON is a good bat\n",
      "SF is a good bat\n",
      "******************\n",
      "These are the most frequently used bats in cricket\n"
     ]
    }
   ],
   "source": [
    "bats = ['SS','CEAT','MRF','NB','TON','SF']\n",
    "\n",
    "print(\"Here are the different kind of bats:\\n*********************************\")\n",
    "\n",
    "for bat in bats:\n",
    "    print(bat+\" is a good bat\")\n",
    "print(\"******************\\nThese are the most frequently used bats in cricket\")"
   ]
  },
  {
   "cell_type": "code",
   "execution_count": 24,
   "id": "198c2ce2",
   "metadata": {},
   "outputs": [
    {
     "name": "stdout",
     "output_type": "stream",
     "text": [
      "0\n",
      "1\n",
      "2\n",
      "3\n",
      "4\n",
      "5\n",
      "6\n",
      "7\n"
     ]
    }
   ],
   "source": [
    "## range() function example\n",
    "\n",
    "for num in range(0,8):\n",
    "    print(num)"
   ]
  },
  {
   "cell_type": "code",
   "execution_count": 25,
   "id": "f95937ec",
   "metadata": {},
   "outputs": [
    {
     "name": "stdout",
     "output_type": "stream",
     "text": [
      "15\n",
      "18\n",
      "21\n",
      "24\n",
      "27\n",
      "30\n",
      "33\n",
      "36\n",
      "39\n"
     ]
    }
   ],
   "source": [
    "## use list and range() to print the values / by 3 between 15 to 40\n",
    "\n",
    "for num in range(15, 40, 3):\n",
    "    print(num)"
   ]
  },
  {
   "cell_type": "code",
   "execution_count": 31,
   "id": "2d353945",
   "metadata": {},
   "outputs": [
    {
     "data": {
      "text/plain": [
       "[2, 4, 6, 8, 10]"
      ]
     },
     "execution_count": 31,
     "metadata": {},
     "output_type": "execute_result"
    }
   ],
   "source": [
    "## Creating a list using the range() function\n",
    "\n",
    "even_numbers = list(range(2,10+1,2))\n",
    "even_numbers"
   ]
  },
  {
   "cell_type": "code",
   "execution_count": 47,
   "id": "7e47f071",
   "metadata": {},
   "outputs": [],
   "source": [
    "## Creating a list using the range() function and for loop\n",
    "\n",
    "list = []\n",
    "\n",
    "for num in range(0,4):\n",
    "    list.append(num)"
   ]
  },
  {
   "cell_type": "code",
   "execution_count": 48,
   "id": "41fb7a99",
   "metadata": {},
   "outputs": [
    {
     "data": {
      "text/plain": [
       "[0, 1, 2, 3]"
      ]
     },
     "execution_count": 48,
     "metadata": {},
     "output_type": "execute_result"
    }
   ],
   "source": [
    "list"
   ]
  },
  {
   "cell_type": "code",
   "execution_count": 49,
   "id": "c7cc4c20",
   "metadata": {},
   "outputs": [],
   "source": [
    "list2 = []\n",
    "for num in range(0,5):\n",
    "    list2.append(num**2)"
   ]
  },
  {
   "cell_type": "code",
   "execution_count": 50,
   "id": "1cedba1d",
   "metadata": {},
   "outputs": [
    {
     "data": {
      "text/plain": [
       "[0, 1, 4, 9, 16]"
      ]
     },
     "execution_count": 50,
     "metadata": {},
     "output_type": "execute_result"
    }
   ],
   "source": [
    "list2"
   ]
  },
  {
   "cell_type": "code",
   "execution_count": 57,
   "id": "285a782e",
   "metadata": {},
   "outputs": [
    {
     "name": "stdout",
     "output_type": "stream",
     "text": [
      "min is 0\n",
      "max is 16\n",
      "sum is 30\n"
     ]
    }
   ],
   "source": [
    "## Simple functions in python\n",
    "\n",
    "print(\"min is \"+str(min(list2)))\n",
    "print(\"max is \"+str(max(list2)))    ## We shld type cast the int to str to concadinate\n",
    "print(\"sum is \"+str(sum(list2)))"
   ]
  },
  {
   "cell_type": "code",
   "execution_count": 60,
   "id": "b8706eb0",
   "metadata": {},
   "outputs": [
    {
     "data": {
      "text/plain": [
       "[1, 4, 9, 16, 25, 36, 49, 64, 81, 100]"
      ]
     },
     "execution_count": 60,
     "metadata": {},
     "output_type": "execute_result"
    }
   ],
   "source": [
    "## List comprehensions\n",
    "\n",
    "# This is used to simplify the lines of code\n",
    "\n",
    "squares = [value**2 for value in range(1,11)]    \n",
    "squares"
   ]
  },
  {
   "cell_type": "code",
   "execution_count": 67,
   "id": "52eeb360",
   "metadata": {},
   "outputs": [
    {
     "name": "stdout",
     "output_type": "stream",
     "text": [
      "1\n",
      "3\n",
      "5\n",
      "7\n",
      "9\n",
      "11\n",
      "13\n",
      "15\n",
      "17\n",
      "19\n"
     ]
    }
   ],
   "source": [
    "## Examples\n",
    "#  1. Odd Numbers: Use the third argument of the range() function to make a list of the odd numbers from 1 to 20.\n",
    "#  Use a for loop to print each number\n",
    "\n",
    "for num in range(1,20,2):\n",
    "    print(num)\n"
   ]
  },
  {
   "cell_type": "code",
   "execution_count": 68,
   "id": "af79a3a2",
   "metadata": {},
   "outputs": [],
   "source": [
    "# 2. Cubes: A number raised to the third power is called a cube. For example, \n",
    "# the cube of 2 is written as 2**3 in Python. Make a list of the first 10 cubes (that \n",
    "# is, the cube of each integer from 1 through 10), and use a for loop to print out \n",
    "# the value of each cube\n",
    "\n",
    "cubes = []\n",
    "for num in range(1,11):\n",
    "    cubes.append(num**3)"
   ]
  },
  {
   "cell_type": "code",
   "execution_count": 69,
   "id": "50a9acdc",
   "metadata": {},
   "outputs": [
    {
     "data": {
      "text/plain": [
       "[1, 8, 27, 64, 125, 216, 343, 512, 729, 1000]"
      ]
     },
     "execution_count": 69,
     "metadata": {},
     "output_type": "execute_result"
    }
   ],
   "source": [
    "cubes"
   ]
  },
  {
   "cell_type": "code",
   "execution_count": 70,
   "id": "ea1cd10a",
   "metadata": {},
   "outputs": [
    {
     "data": {
      "text/plain": [
       "[1, 8, 27, 64, 125, 216, 343, 512, 729, 1000]"
      ]
     },
     "execution_count": 70,
     "metadata": {},
     "output_type": "execute_result"
    }
   ],
   "source": [
    "# 3. Cube Comprehension: Use a list comprehension to generate a list of the \n",
    "# first 10 cubes\n",
    "\n",
    "cubes = [value**3 for value in range(1,11)]\n",
    "cubes"
   ]
  },
  {
   "cell_type": "code",
   "execution_count": 71,
   "id": "036abb51",
   "metadata": {},
   "outputs": [
    {
     "data": {
      "text/plain": [
       "[8, 27]"
      ]
     },
     "execution_count": 71,
     "metadata": {},
     "output_type": "execute_result"
    }
   ],
   "source": [
    "## Slicing a List\n",
    "\n",
    "cubes[1:3]   # Here 3 is exclusive"
   ]
  },
  {
   "cell_type": "code",
   "execution_count": 72,
   "id": "0f7219a5",
   "metadata": {},
   "outputs": [
    {
     "data": {
      "text/plain": [
       "[1, 8, 27, 64]"
      ]
     },
     "execution_count": 72,
     "metadata": {},
     "output_type": "execute_result"
    }
   ],
   "source": [
    "cubes[:4]   # Here 4 is exclusive"
   ]
  },
  {
   "cell_type": "code",
   "execution_count": 73,
   "id": "816f76e4",
   "metadata": {},
   "outputs": [
    {
     "data": {
      "text/plain": [
       "[27, 64, 125, 216, 343, 512, 729, 1000]"
      ]
     },
     "execution_count": 73,
     "metadata": {},
     "output_type": "execute_result"
    }
   ],
   "source": [
    "cubes[2:]"
   ]
  },
  {
   "cell_type": "code",
   "execution_count": 74,
   "id": "2b49003e",
   "metadata": {},
   "outputs": [
    {
     "data": {
      "text/plain": [
       "[1, 8, 27, 64, 125, 216, 343, 512, 729, 1000]"
      ]
     },
     "execution_count": 74,
     "metadata": {},
     "output_type": "execute_result"
    }
   ],
   "source": [
    "cubes[:]"
   ]
  },
  {
   "cell_type": "code",
   "execution_count": 76,
   "id": "a022064e",
   "metadata": {},
   "outputs": [
    {
     "data": {
      "text/plain": [
       "[512, 729, 1000]"
      ]
     },
     "execution_count": 76,
     "metadata": {},
     "output_type": "execute_result"
    }
   ],
   "source": [
    "cubes[-3:]   # Negative index starts from last"
   ]
  },
  {
   "cell_type": "code",
   "execution_count": 77,
   "id": "cc1598a2",
   "metadata": {},
   "outputs": [
    {
     "name": "stdout",
     "output_type": "stream",
     "text": [
      "64\n",
      "125\n",
      "216\n",
      "343\n",
      "512\n",
      "729\n",
      "1000\n"
     ]
    }
   ],
   "source": [
    "## Looping a sliced list\n",
    "\n",
    "for num in cubes[3:]:\n",
    "    print(num)"
   ]
  },
  {
   "cell_type": "code",
   "execution_count": 86,
   "id": "4c5e7ea1",
   "metadata": {},
   "outputs": [],
   "source": [
    "## Copying a list\n",
    "\n",
    "sample = [1,2,3,4]\n",
    "\n",
    "#sample2 = sample \n",
    "\n",
    "## or we can use\n",
    "sample2 = sample[:]"
   ]
  },
  {
   "cell_type": "code",
   "execution_count": 87,
   "id": "3ff15a90",
   "metadata": {},
   "outputs": [
    {
     "data": {
      "text/plain": [
       "[1, 2, 3, 4]"
      ]
     },
     "execution_count": 87,
     "metadata": {},
     "output_type": "execute_result"
    }
   ],
   "source": [
    "sample2"
   ]
  },
  {
   "cell_type": "code",
   "execution_count": 93,
   "id": "6a700831",
   "metadata": {},
   "outputs": [
    {
     "name": "stdout",
     "output_type": "stream",
     "text": [
      "My favorite foods are:\n",
      "['pizza', 'falafel', 'carrot cake']\n",
      "\n",
      "My friend's favorite foods are:\n",
      "['pizza', 'falafel', 'carrot cake']\n"
     ]
    }
   ],
   "source": [
    "## real time example\n",
    "my_foods = ['pizza', 'falafel', 'carrot cake']\n",
    "friend_foods = my_foods[:]\n",
    "print(\"My favorite foods are:\")\n",
    "print(my_foods)\n",
    "print(\"\\nMy friend's favorite foods are:\")\n",
    "print(friend_foods)"
   ]
  },
  {
   "cell_type": "code",
   "execution_count": 95,
   "id": "712d822d",
   "metadata": {},
   "outputs": [],
   "source": [
    "friend_foods.append('ice')"
   ]
  },
  {
   "cell_type": "code",
   "execution_count": 96,
   "id": "6d8adf2e",
   "metadata": {},
   "outputs": [
    {
     "name": "stdout",
     "output_type": "stream",
     "text": [
      "My favorite foods are:\n",
      "['pizza', 'falafel', 'carrot cake']\n",
      "\n",
      "My friend's favorite foods are:\n",
      "['pizza', 'falafel', 'carrot cake', 'ice']\n"
     ]
    }
   ],
   "source": [
    "print(\"My favorite foods are:\")\n",
    "print(my_foods)\n",
    "print(\"\\nMy friend's favorite foods are:\")\n",
    "print(friend_foods)"
   ]
  },
  {
   "cell_type": "code",
   "execution_count": 97,
   "id": "f6a10524",
   "metadata": {},
   "outputs": [],
   "source": [
    "my_foods.append('milkshake')   # Analyze the difference"
   ]
  },
  {
   "cell_type": "code",
   "execution_count": 98,
   "id": "faba935d",
   "metadata": {},
   "outputs": [
    {
     "name": "stdout",
     "output_type": "stream",
     "text": [
      "My favorite foods are:\n",
      "['pizza', 'falafel', 'carrot cake', 'milkshake']\n",
      "\n",
      "My friend's favorite foods are:\n",
      "['pizza', 'falafel', 'carrot cake', 'ice']\n"
     ]
    }
   ],
   "source": [
    "print(\"My favorite foods are:\")\n",
    "print(my_foods)\n",
    "print(\"\\nMy friend's favorite foods are:\")\n",
    "print(friend_foods)"
   ]
  },
  {
   "cell_type": "code",
   "execution_count": null,
   "id": "781f3faa",
   "metadata": {},
   "outputs": [],
   "source": []
  }
 ],
 "metadata": {
  "kernelspec": {
   "display_name": "Python 3 (ipykernel)",
   "language": "python",
   "name": "python3"
  },
  "language_info": {
   "codemirror_mode": {
    "name": "ipython",
    "version": 3
   },
   "file_extension": ".py",
   "mimetype": "text/x-python",
   "name": "python",
   "nbconvert_exporter": "python",
   "pygments_lexer": "ipython3",
   "version": "3.9.7"
  }
 },
 "nbformat": 4,
 "nbformat_minor": 5
}
