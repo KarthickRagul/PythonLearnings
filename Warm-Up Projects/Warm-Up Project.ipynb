{
 "cells": [
  {
   "cell_type": "markdown",
   "id": "58f3716c",
   "metadata": {},
   "source": [
    "**Simple Interaction Project** "
   ]
  },
  {
   "cell_type": "code",
   "execution_count": 1,
   "id": "644433bf",
   "metadata": {},
   "outputs": [],
   "source": [
    "# Display function for my_list\n",
    "\n",
    "def display_my_list(my_list):\n",
    "    print(\"Here is my current list :\")\n",
    "    print(my_list)"
   ]
  },
  {
   "cell_type": "code",
   "execution_count": 2,
   "id": "a7a0cd04",
   "metadata": {},
   "outputs": [],
   "source": [
    "# Get the user position\n",
    "\n",
    "# Initialize the list\n",
    "from IPython.display import clear_output\n",
    "\n",
    "def get_position():\n",
    "    \n",
    "    # This original choice value can be anything that isn't an integer\n",
    "    choice='wrong'\n",
    "    \n",
    "     # While the choice is not a digit, keep asking for input.\n",
    "    while choice not in ['0','1','2']:\n",
    "        \n",
    "        # we shouldn't convert here, otherwise we get an error on a wrong input\n",
    "        choice = input(\"Enter your choice in [0,1,2] \")\n",
    "        \n",
    "        if choice not in ['0','1','2']:\n",
    "            \n",
    "            # THIS CLEARS THE CURRENT OUTPUT BELOW THE CELL\n",
    "            clear_output()\n",
    "            \n",
    "            print(\"Sorry, Choose anyone from [0,1,2]\")\n",
    "        \n",
    "    return int(choice)\n",
    "        \n",
    "## PLEASE TAKE CARE OF DATATYPES FOR INPUT FUNCTION\n"
   ]
  },
  {
   "cell_type": "code",
   "execution_count": 3,
   "id": "b6c6fb71",
   "metadata": {},
   "outputs": [],
   "source": [
    "# Function for Replacement value of the position\n",
    "\n",
    "def replacement_value(my_list,choice):\n",
    "    \n",
    "    # Getting the replacement value for the choice(position)\n",
    "    replacement=input(\"Enter the replacement value for the position: \")\n",
    "    \n",
    "    # Checking the value is integer\n",
    "    if replacement.isdigit():\n",
    "        my_list[choice]=int(replacement)\n",
    "    else:\n",
    "        my_list[choice]=replacement\n",
    "    \n",
    "    return my_list"
   ]
  },
  {
   "cell_type": "code",
   "execution_count": 7,
   "id": "2fb9b2e9",
   "metadata": {},
   "outputs": [],
   "source": [
    "# Function for Game to continue \n",
    "from IPython.display import clear_output\n",
    "def game_on_choice():\n",
    "    \n",
    "    # This original choice value can be anything that isn't a Y or N\n",
    "    try_again = 'wrong'\n",
    "    \n",
    "    # While the choice is not a digit, keep asking for input\n",
    "    while choice not in ['Y','N']:\n",
    "        \n",
    "        # we shouldn't convert here, otherwise we get an error on a wrong input\n",
    "        try_again=input(\"Enter your choice to continue 'Y' or 'N' :\")\n",
    "        \n",
    "        if try_again not in ['Y','N']:\n",
    "            # THIS CLEARS THE CURRENT OUTPUT BELOW THE CELL\n",
    "            clear_output()\n",
    "            print(\"Sorry Please select 'Y' or 'N'\")\n",
    "        \n",
    "        if try_again == \"Y\":\n",
    "        # Game is still on\n",
    "            return True\n",
    "        else:\n",
    "        # Game is over\n",
    "            return False"
   ]
  },
  {
   "cell_type": "markdown",
   "id": "e9c1e0e6",
   "metadata": {},
   "source": [
    "**Game Logic in Together**"
   ]
  },
  {
   "cell_type": "code",
   "execution_count": 8,
   "id": "48165a25",
   "metadata": {},
   "outputs": [
    {
     "name": "stdout",
     "output_type": "stream",
     "text": [
      "Here is my current list :\n",
      "[0, 'karthjick', 2]\n",
      "Enter your choice to continue 'Y' or 'N' :N\n"
     ]
    }
   ],
   "source": [
    "# Variable to keep game playing\n",
    "game_on=True\n",
    "\n",
    "# First Game List\n",
    "my_list = [0,1,2]\n",
    "\n",
    "while game_on:\n",
    "     # Clear any historical output and show the game list\n",
    "    clear_output()\n",
    "    display_my_list(my_list)\n",
    "    \n",
    "    # Have player choose position\n",
    "    choice = get_position()\n",
    "    \n",
    "    # Rewrite that position and update game_list\n",
    "    my_list = replacement_value(my_list,choice)\n",
    "    \n",
    "    # Clear Screen and show the updated game list\n",
    "    clear_output()\n",
    "    display_my_list(my_list)\n",
    "    \n",
    "    # Ask if you want to keep playing\n",
    "    game_on = game_on_choice()"
   ]
  },
  {
   "cell_type": "code",
   "execution_count": null,
   "id": "be591d5c",
   "metadata": {},
   "outputs": [],
   "source": []
  }
 ],
 "metadata": {
  "kernelspec": {
   "display_name": "Python 3 (ipykernel)",
   "language": "python",
   "name": "python3"
  },
  "language_info": {
   "codemirror_mode": {
    "name": "ipython",
    "version": 3
   },
   "file_extension": ".py",
   "mimetype": "text/x-python",
   "name": "python",
   "nbconvert_exporter": "python",
   "pygments_lexer": "ipython3",
   "version": "3.9.7"
  }
 },
 "nbformat": 4,
 "nbformat_minor": 5
}
