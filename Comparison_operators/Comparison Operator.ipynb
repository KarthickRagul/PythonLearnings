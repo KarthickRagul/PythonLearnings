{
 "cells": [
  {
   "cell_type": "markdown",
   "id": "0b7301f3",
   "metadata": {},
   "source": [
    "Python Comparison operators \n",
    "1. and - Checks the all condition and returns the result as True if all conditions are passed else False\n",
    "2. or - Checks the all condition and returns the result as True if any one condition is passed else False\n",
    "3. not - Returns opposite of the result \n",
    "Refer the Example "
   ]
  },
  {
   "cell_type": "code",
   "execution_count": 2,
   "id": "a6a0746e",
   "metadata": {},
   "outputs": [
    {
     "data": {
      "text/plain": [
       "False"
      ]
     },
     "execution_count": 2,
     "metadata": {},
     "output_type": "execute_result"
    }
   ],
   "source": [
    "(2>3) and (3<5)"
   ]
  },
  {
   "cell_type": "code",
   "execution_count": 3,
   "id": "6935ae25",
   "metadata": {},
   "outputs": [
    {
     "data": {
      "text/plain": [
       "True"
      ]
     },
     "execution_count": 3,
     "metadata": {},
     "output_type": "execute_result"
    }
   ],
   "source": [
    "(2>3) or (3<5)"
   ]
  },
  {
   "cell_type": "code",
   "execution_count": 4,
   "id": "5c9b84b1",
   "metadata": {},
   "outputs": [
    {
     "data": {
      "text/plain": [
       "True"
      ]
     },
     "execution_count": 4,
     "metadata": {},
     "output_type": "execute_result"
    }
   ],
   "source": [
    "not ((2>3) and (3<5))   # Compare 1st Example and understand"
   ]
  }
 ],
 "metadata": {
  "kernelspec": {
   "display_name": "Python 3 (ipykernel)",
   "language": "python",
   "name": "python3"
  },
  "language_info": {
   "codemirror_mode": {
    "name": "ipython",
    "version": 3
   },
   "file_extension": ".py",
   "mimetype": "text/x-python",
   "name": "python",
   "nbconvert_exporter": "python",
   "pygments_lexer": "ipython3",
   "version": "3.9.7"
  }
 },
 "nbformat": 4,
 "nbformat_minor": 5
}
