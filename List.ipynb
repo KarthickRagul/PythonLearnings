{
 "cells": [
  {
   "cell_type": "markdown",
   "id": "2b8bbee0",
   "metadata": {},
   "source": [
    "List is also treated as string but not not exactly, only difference is List can be mutable but string can't be mutable. List supports Indexing and Slicing"
   ]
  },
  {
   "cell_type": "code",
   "execution_count": 45,
   "id": "26263f87",
   "metadata": {},
   "outputs": [],
   "source": [
    "my_list = ['karthick',22,8.3]"
   ]
  },
  {
   "cell_type": "code",
   "execution_count": 46,
   "id": "452dde08",
   "metadata": {},
   "outputs": [
    {
     "data": {
      "text/plain": [
       "['karthick', 22, 8.3]"
      ]
     },
     "execution_count": 46,
     "metadata": {},
     "output_type": "execute_result"
    }
   ],
   "source": [
    "my_list"
   ]
  },
  {
   "cell_type": "code",
   "execution_count": 3,
   "id": "ae342139",
   "metadata": {},
   "outputs": [
    {
     "data": {
      "text/plain": [
       "3"
      ]
     },
     "execution_count": 3,
     "metadata": {},
     "output_type": "execute_result"
    }
   ],
   "source": [
    "len(my_list)   # This len() function is used to find the length of the list"
   ]
  },
  {
   "cell_type": "code",
   "execution_count": 5,
   "id": "c1cc6c6b",
   "metadata": {},
   "outputs": [
    {
     "data": {
      "text/plain": [
       "'karthick'"
      ]
     },
     "execution_count": 5,
     "metadata": {},
     "output_type": "execute_result"
    }
   ],
   "source": [
    "my_list[0]  # Indexing Concept"
   ]
  },
  {
   "cell_type": "code",
   "execution_count": 6,
   "id": "832cfad0",
   "metadata": {},
   "outputs": [
    {
     "data": {
      "text/plain": [
       "[22, 8.3]"
      ]
     },
     "execution_count": 6,
     "metadata": {},
     "output_type": "execute_result"
    }
   ],
   "source": [
    "my_list[1:]  # Slicing"
   ]
  },
  {
   "cell_type": "code",
   "execution_count": 7,
   "id": "1ea37ec0",
   "metadata": {},
   "outputs": [
    {
     "data": {
      "text/plain": [
       "8.3"
      ]
     },
     "execution_count": 7,
     "metadata": {},
     "output_type": "execute_result"
    }
   ],
   "source": [
    "my_list[-1] # Negative Indexing"
   ]
  },
  {
   "cell_type": "code",
   "execution_count": 15,
   "id": "2880f490",
   "metadata": {},
   "outputs": [
    {
     "data": {
      "text/plain": [
       "[8.3, 22, 'karthick']"
      ]
     },
     "execution_count": 15,
     "metadata": {},
     "output_type": "execute_result"
    }
   ],
   "source": [
    "my_list[::-1]  # Reversing the list"
   ]
  },
  {
   "cell_type": "code",
   "execution_count": 47,
   "id": "a90051fa",
   "metadata": {},
   "outputs": [],
   "source": [
    "my_list.append('Ragul')  # Used to add the element at last"
   ]
  },
  {
   "cell_type": "code",
   "execution_count": 48,
   "id": "31439233",
   "metadata": {},
   "outputs": [
    {
     "data": {
      "text/plain": [
       "['karthick', 22, 8.3, 'Ragul']"
      ]
     },
     "execution_count": 48,
     "metadata": {},
     "output_type": "execute_result"
    }
   ],
   "source": [
    "my_list"
   ]
  },
  {
   "cell_type": "code",
   "execution_count": 19,
   "id": "982a4a6e",
   "metadata": {},
   "outputs": [
    {
     "data": {
      "text/plain": [
       "'Ragul'"
      ]
     },
     "execution_count": 19,
     "metadata": {},
     "output_type": "execute_result"
    }
   ],
   "source": [
    "my_list.pop()  # Used to remove the element from the last"
   ]
  },
  {
   "cell_type": "code",
   "execution_count": 22,
   "id": "509d71bb",
   "metadata": {},
   "outputs": [],
   "source": [
    "poped_item = my_list.pop()  # This is used to store the poped value into some placeholder"
   ]
  },
  {
   "cell_type": "code",
   "execution_count": 23,
   "id": "db35c039",
   "metadata": {},
   "outputs": [
    {
     "data": {
      "text/plain": [
       "'Ragul'"
      ]
     },
     "execution_count": 23,
     "metadata": {},
     "output_type": "execute_result"
    }
   ],
   "source": [
    "poped_item"
   ]
  },
  {
   "cell_type": "code",
   "execution_count": 49,
   "id": "9c0aaa5f",
   "metadata": {},
   "outputs": [],
   "source": [
    "new_list =['Python',3.6,2021]"
   ]
  },
  {
   "cell_type": "code",
   "execution_count": 50,
   "id": "04c1f063",
   "metadata": {},
   "outputs": [],
   "source": [
    "result_list = my_list + new_list  # This is used to concatinate the two List's"
   ]
  },
  {
   "cell_type": "code",
   "execution_count": 51,
   "id": "ed0dc88c",
   "metadata": {},
   "outputs": [
    {
     "data": {
      "text/plain": [
       "['karthick', 22, 8.3, 'Ragul', 'Python', 3.6, 2021]"
      ]
     },
     "execution_count": 51,
     "metadata": {},
     "output_type": "execute_result"
    }
   ],
   "source": [
    "result_list"
   ]
  },
  {
   "cell_type": "markdown",
   "id": "9c57b6ed",
   "metadata": {},
   "source": [
    "Example for List mutability"
   ]
  },
  {
   "cell_type": "code",
   "execution_count": 52,
   "id": "73aaad69",
   "metadata": {},
   "outputs": [],
   "source": [
    "result_list[6]=2022 # modifying the value in the index position 6"
   ]
  },
  {
   "cell_type": "code",
   "execution_count": 53,
   "id": "9d1d8df8",
   "metadata": {},
   "outputs": [
    {
     "data": {
      "text/plain": [
       "['karthick', 22, 8.3, 'Ragul', 'Python', 3.6, 2022]"
      ]
     },
     "execution_count": 53,
     "metadata": {},
     "output_type": "execute_result"
    }
   ],
   "source": [
    "result_list"
   ]
  },
  {
   "cell_type": "code",
   "execution_count": 64,
   "id": "12b78080",
   "metadata": {},
   "outputs": [
    {
     "data": {
      "text/plain": [
       "['karthick', 'Python']"
      ]
     },
     "execution_count": 64,
     "metadata": {},
     "output_type": "execute_result"
    }
   ],
   "source": [
    "result_list"
   ]
  },
  {
   "cell_type": "code",
   "execution_count": 65,
   "id": "959b50ce",
   "metadata": {},
   "outputs": [],
   "source": [
    "result_list.sort()   # This is used to sort the list, but it won't return any value"
   ]
  },
  {
   "cell_type": "code",
   "execution_count": 66,
   "id": "1d1cc691",
   "metadata": {},
   "outputs": [
    {
     "data": {
      "text/plain": [
       "['Python', 'karthick']"
      ]
     },
     "execution_count": 66,
     "metadata": {},
     "output_type": "execute_result"
    }
   ],
   "source": [
    "result_list   # To see whether it is sorted or not, we need to print that and see the result"
   ]
  },
  {
   "cell_type": "code",
   "execution_count": 69,
   "id": "cbe5e11d",
   "metadata": {},
   "outputs": [],
   "source": [
    "result_list.reverse() # This is used to reverse the list, but it won't return any value"
   ]
  },
  {
   "cell_type": "code",
   "execution_count": 71,
   "id": "4b441456",
   "metadata": {},
   "outputs": [
    {
     "data": {
      "text/plain": [
       "['karthick', 'Python']"
      ]
     },
     "execution_count": 71,
     "metadata": {},
     "output_type": "execute_result"
    }
   ],
   "source": [
    "result_list   # To see whether it is reversed or not, we need to print that and see the result"
   ]
  },
  {
   "cell_type": "code",
   "execution_count": 72,
   "id": "62c4da22",
   "metadata": {},
   "outputs": [],
   "source": [
    "rev_result = result_list.reverse()"
   ]
  },
  {
   "cell_type": "code",
   "execution_count": 73,
   "id": "a27cb087",
   "metadata": {},
   "outputs": [],
   "source": [
    "rev_result    # It will not return anything, bcoz it's type is NoneType. NoneType is just a place holder"
   ]
  },
  {
   "cell_type": "code",
   "execution_count": 74,
   "id": "3f73aa9b",
   "metadata": {},
   "outputs": [
    {
     "data": {
      "text/plain": [
       "NoneType"
      ]
     },
     "execution_count": 74,
     "metadata": {},
     "output_type": "execute_result"
    }
   ],
   "source": [
    "type(rev_result)"
   ]
  },
  {
   "cell_type": "markdown",
   "id": "7c7bdab6",
   "metadata": {},
   "source": [
    "Note : Common default return type is None, People use it for place holder"
   ]
  },
  {
   "cell_type": "markdown",
   "id": "ff67b3a0",
   "metadata": {},
   "source": [
    "To Overcome this problem, we can use the below code"
   ]
  },
  {
   "cell_type": "code",
   "execution_count": 76,
   "id": "aa3b3d89",
   "metadata": {},
   "outputs": [],
   "source": [
    "result_list.reverse()"
   ]
  },
  {
   "cell_type": "code",
   "execution_count": 77,
   "id": "d525bc28",
   "metadata": {},
   "outputs": [],
   "source": [
    "rev_result = result_list     # Here u r assigning the reversed list values"
   ]
  },
  {
   "cell_type": "code",
   "execution_count": 79,
   "id": "fcbb57d3",
   "metadata": {},
   "outputs": [],
   "source": [
    "rev_result.append('age')"
   ]
  },
  {
   "cell_type": "code",
   "execution_count": 84,
   "id": "9a59726b",
   "metadata": {},
   "outputs": [],
   "source": [
    "rev_result[0]='python'"
   ]
  },
  {
   "cell_type": "code",
   "execution_count": 85,
   "id": "507648e5",
   "metadata": {},
   "outputs": [],
   "source": [
    "rev_result.sort()"
   ]
  },
  {
   "cell_type": "code",
   "execution_count": 86,
   "id": "435954cb",
   "metadata": {},
   "outputs": [],
   "source": [
    "sorted_result = rev_result"
   ]
  },
  {
   "cell_type": "code",
   "execution_count": 88,
   "id": "92068a36",
   "metadata": {},
   "outputs": [
    {
     "data": {
      "text/plain": [
       "['age', 'karthick', 'python']"
      ]
     },
     "execution_count": 88,
     "metadata": {},
     "output_type": "execute_result"
    }
   ],
   "source": [
    "sorted_result       # Here u can see the sorted list Note : Sorting will be done by Capital letters and then Small letters"
   ]
  },
  {
   "cell_type": "code",
   "execution_count": 89,
   "id": "49b0ecd9",
   "metadata": {},
   "outputs": [],
   "source": [
    "sorted_result.reverse()   # This function is used to Reverse the list"
   ]
  },
  {
   "cell_type": "code",
   "execution_count": 90,
   "id": "72c474e2",
   "metadata": {},
   "outputs": [
    {
     "data": {
      "text/plain": [
       "['python', 'karthick', 'age']"
      ]
     },
     "execution_count": 90,
     "metadata": {},
     "output_type": "execute_result"
    }
   ],
   "source": [
    "sorted_result"
   ]
  }
 ],
 "metadata": {
  "kernelspec": {
   "display_name": "Python 3 (ipykernel)",
   "language": "python",
   "name": "python3"
  },
  "language_info": {
   "codemirror_mode": {
    "name": "ipython",
    "version": 3
   },
   "file_extension": ".py",
   "mimetype": "text/x-python",
   "name": "python",
   "nbconvert_exporter": "python",
   "pygments_lexer": "ipython3",
   "version": "3.9.7"
  }
 },
 "nbformat": 4,
 "nbformat_minor": 5
}
