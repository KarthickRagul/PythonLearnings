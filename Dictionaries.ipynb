{
 "cells": [
  {
   "cell_type": "markdown",
<<<<<<< HEAD
   "id": "caf652dc",
=======
   "id": "64e58051",
>>>>>>> topics1
   "metadata": {},
   "source": [
    "Dictionaries : Objects retrieved by the key name, Is is Unordered and cannot be sorted.\n",
    "Lists: Objects retrieved by the index position, Ordered can be indexed, sliced and sorted"
   ]
  },
  {
   "cell_type": "code",
   "execution_count": 2,
<<<<<<< HEAD
   "id": "b13001f4",
=======
   "id": "ad00a558",
>>>>>>> topics1
   "metadata": {},
   "outputs": [],
   "source": [
    "my_dictionaire = {'name':'Karthick', 'age':22, 'Company':'ABC', 'Location':'HYD', 'CGPA':8.5, 'Married':'False'}  # key:value"
   ]
  },
  {
   "cell_type": "code",
   "execution_count": 3,
<<<<<<< HEAD
   "id": "5bfb0827",
=======
   "id": "bdb14578",
>>>>>>> topics1
   "metadata": {},
   "outputs": [
    {
     "data": {
      "text/plain": [
       "{'name': 'Karthick',\n",
       " 'age': 22,\n",
       " 'Company': 'ABC',\n",
       " 'Location': 'HYD',\n",
       " 'CGPA': 8.5,\n",
       " 'Married': 'False'}"
      ]
     },
     "execution_count": 3,
     "metadata": {},
     "output_type": "execute_result"
    }
   ],
   "source": [
    "my_dictionaire"
   ]
  },
  {
   "cell_type": "code",
   "execution_count": 9,
<<<<<<< HEAD
   "id": "4d53c227",
=======
   "id": "26783e9b",
>>>>>>> topics1
   "metadata": {},
   "outputs": [
    {
     "data": {
      "text/plain": [
       "'Karthick'"
      ]
     },
     "execution_count": 9,
     "metadata": {},
     "output_type": "execute_result"
    }
   ],
   "source": [
    "my_dictionaire['name']   # Using key name we can fetch the value of that key"
   ]
  },
  {
   "cell_type": "code",
   "execution_count": 21,
<<<<<<< HEAD
   "id": "3d5e4e22",
=======
   "id": "18571b83",
>>>>>>> topics1
   "metadata": {},
   "outputs": [],
   "source": [
    "my_details={'name':'Karthick', 'Marks':[100,98,97],'Courses':{'Weekend':'AWS','Weekday':'Azure','Everyday':'Python'}}  # We can store the list, dictionary inside the dictionaire"
   ]
  },
  {
   "cell_type": "code",
   "execution_count": 18,
<<<<<<< HEAD
   "id": "e054e3b8",
=======
   "id": "a61676da",
>>>>>>> topics1
   "metadata": {},
   "outputs": [
    {
     "data": {
      "text/plain": [
       "100"
      ]
     },
     "execution_count": 18,
     "metadata": {},
     "output_type": "execute_result"
    }
   ],
   "source": [
    "my_details['Marks']  # Key names are case sensitive\n",
    "\n",
    "my_details['Marks'][0]  # As a list we can use the indexing concept here to fetch the value present in the index"
   ]
  },
  {
   "cell_type": "code",
   "execution_count": 22,
<<<<<<< HEAD
   "id": "518e18d6",
=======
   "id": "cf37490c",
>>>>>>> topics1
   "metadata": {},
   "outputs": [
    {
     "data": {
      "text/plain": [
       "'Python'"
      ]
     },
     "execution_count": 22,
     "metadata": {},
     "output_type": "execute_result"
    }
   ],
   "source": [
    "my_details['Courses']['Everyday']  # Used to fetch the value for the key 'Everyday' in the courses dictionary"
   ]
  },
  {
   "cell_type": "code",
   "execution_count": 23,
<<<<<<< HEAD
   "id": "a27a0472",
=======
   "id": "db66f8da",
>>>>>>> topics1
   "metadata": {},
   "outputs": [
    {
     "data": {
      "text/plain": [
       "'AWS'"
      ]
     },
     "execution_count": 23,
     "metadata": {},
     "output_type": "execute_result"
    }
   ],
   "source": [
    "my_details['Courses']['Weekend'].upper()  # Converting the value to uppercase"
   ]
  },
  {
   "cell_type": "code",
   "execution_count": 24,
<<<<<<< HEAD
   "id": "33cce5d0",
=======
   "id": "828c6903",
>>>>>>> topics1
   "metadata": {},
   "outputs": [],
   "source": [
    "my_details['Age']=22   # This is used to add one more element in the dictionary at last, we can use the same to update the value"
   ]
  },
  {
   "cell_type": "code",
   "execution_count": 25,
<<<<<<< HEAD
   "id": "d7a0e965",
=======
   "id": "3fdf064b",
>>>>>>> topics1
   "metadata": {},
   "outputs": [
    {
     "data": {
      "text/plain": [
       "{'name': 'Karthick',\n",
       " 'Marks': [100, 98, 97],\n",
       " 'Courses': {'Weekend': 'AWS', 'Weekday': 'Azure', 'Everyday': 'Python'},\n",
       " 'Age': 22}"
      ]
     },
     "execution_count": 25,
     "metadata": {},
     "output_type": "execute_result"
    }
   ],
   "source": [
    "my_details   "
   ]
  },
  {
   "cell_type": "code",
   "execution_count": 26,
<<<<<<< HEAD
   "id": "ed6aa004",
=======
   "id": "cb11a800",
>>>>>>> topics1
   "metadata": {},
   "outputs": [
    {
     "data": {
      "text/plain": [
       "dict_keys(['name', 'Marks', 'Courses', 'Age'])"
      ]
     },
     "execution_count": 26,
     "metadata": {},
     "output_type": "execute_result"
    }
   ],
   "source": [
    "my_details.keys()  # This is used to get the keys present in the dictionary"
   ]
  },
  {
   "cell_type": "code",
   "execution_count": 27,
<<<<<<< HEAD
   "id": "79b64fde",
=======
   "id": "1cae0501",
>>>>>>> topics1
   "metadata": {},
   "outputs": [
    {
     "data": {
      "text/plain": [
       "dict_values(['Karthick', [100, 98, 97], {'Weekend': 'AWS', 'Weekday': 'Azure', 'Everyday': 'Python'}, 22])"
      ]
     },
     "execution_count": 27,
     "metadata": {},
     "output_type": "execute_result"
    }
   ],
   "source": [
    "my_details.values()  # This is used to get the values present in the dictionary"
   ]
  },
  {
   "cell_type": "code",
   "execution_count": 31,
<<<<<<< HEAD
   "id": "a3dca8ae",
=======
   "id": "13f07ccf",
>>>>>>> topics1
   "metadata": {},
   "outputs": [
    {
     "data": {
      "text/plain": [
       "dict_items([('name', 'Karthick'), ('Marks', [100, 98, 97]), ('Courses', {'Weekend': 'AWS', 'Weekday': 'Azure', 'Everyday': 'Python'}), ('Age', 22)])"
      ]
     },
     "execution_count": 31,
     "metadata": {},
     "output_type": "execute_result"
    }
   ],
   "source": [
    "my_details.items()  # This is used to get the items present in the dictionary, func name items() is a case sensitive"
   ]
  },
  {
   "cell_type": "code",
   "execution_count": null,
<<<<<<< HEAD
   "id": "6395a16b",
=======
   "id": "66481647",
>>>>>>> topics1
   "metadata": {},
   "outputs": [],
   "source": []
  }
 ],
 "metadata": {
  "kernelspec": {
   "display_name": "Python 3 (ipykernel)",
   "language": "python",
   "name": "python3"
  },
  "language_info": {
   "codemirror_mode": {
    "name": "ipython",
    "version": 3
   },
   "file_extension": ".py",
   "mimetype": "text/x-python",
   "name": "python",
   "nbconvert_exporter": "python",
   "pygments_lexer": "ipython3",
   "version": "3.9.7"
  }
 },
 "nbformat": 4,
 "nbformat_minor": 5
}
