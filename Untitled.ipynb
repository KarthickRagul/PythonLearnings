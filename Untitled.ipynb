{
 "cells": [
  {
   "cell_type": "markdown",
   "id": "ed3c04fb",
   "metadata": {},
   "source": [
    "Immutability of Strings"
   ]
  },
  {
   "cell_type": "code",
   "execution_count": 1,
   "id": "c066115d",
   "metadata": {},
   "outputs": [],
   "source": [
    "name = 'Karthick Ragul'"
   ]
  },
  {
   "cell_type": "code",
   "execution_count": 2,
   "id": "a15d979b",
   "metadata": {},
   "outputs": [
    {
     "data": {
      "text/plain": [
       "'Karthick Ragul'"
      ]
     },
     "execution_count": 2,
     "metadata": {},
     "output_type": "execute_result"
    }
   ],
   "source": [
    "name"
   ]
  },
  {
   "cell_type": "markdown",
   "id": "f5bd2efc",
   "metadata": {},
   "source": [
    "We can not modify the values of the string using indexes, Refer the example"
   ]
  },
  {
   "cell_type": "code",
   "execution_count": 3,
   "id": "f4372ba0",
   "metadata": {
    "scrolled": true
   },
   "outputs": [
    {
     "ename": "TypeError",
     "evalue": "'str' object does not support item assignment",
     "output_type": "error",
     "traceback": [
      "\u001b[1;31m---------------------------------------------------------------------------\u001b[0m",
      "\u001b[1;31mTypeError\u001b[0m                                 Traceback (most recent call last)",
      "\u001b[1;32m~\\AppData\\Local\\Temp/ipykernel_21192/4266244997.py\u001b[0m in \u001b[0;36m<module>\u001b[1;34m\u001b[0m\n\u001b[1;32m----> 1\u001b[1;33m \u001b[0mname\u001b[0m\u001b[1;33m[\u001b[0m\u001b[1;36m0\u001b[0m\u001b[1;33m]\u001b[0m\u001b[1;33m=\u001b[0m\u001b[1;34m'R'\u001b[0m\u001b[1;33m\u001b[0m\u001b[1;33m\u001b[0m\u001b[0m\n\u001b[0m",
      "\u001b[1;31mTypeError\u001b[0m: 'str' object does not support item assignment"
     ]
    }
   ],
   "source": [
    "name[0]='R'"
   ]
  },
  {
   "cell_type": "markdown",
   "id": "0ebc7628",
   "metadata": {},
   "source": [
    "If u run the above code, u will get the error TypeError: 'str' object does not support item assignment"
   ]
  },
  {
   "cell_type": "markdown",
   "id": "359a8a49",
   "metadata": {},
   "source": [
    "To overcome this, we can use the concatination of strings, Refer the Example"
   ]
  },
  {
   "cell_type": "code",
   "execution_count": 4,
   "id": "f876ea42",
   "metadata": {},
   "outputs": [
    {
     "data": {
      "text/plain": [
       "'Rarthick Ragul'"
      ]
     },
     "execution_count": 4,
     "metadata": {},
     "output_type": "execute_result"
    }
   ],
   "source": [
    "'R'+name[1:]"
   ]
  },
  {
   "cell_type": "markdown",
   "id": "d8b38853",
   "metadata": {},
   "source": [
    "If u run the above code, you can feel the difference. using concat and slicing of the string we reached the req output, Refer\n",
    "some of the examples given below"
   ]
  },
  {
   "cell_type": "code",
   "execution_count": 5,
   "id": "79a693d0",
   "metadata": {},
   "outputs": [
    {
     "data": {
      "text/plain": [
       "'Karthick Ragul is a Good boy'"
      ]
     },
     "execution_count": 5,
     "metadata": {},
     "output_type": "execute_result"
    }
   ],
   "source": [
    "name + ' is a Good boy'"
   ]
  },
  {
   "cell_type": "code",
   "execution_count": 6,
   "id": "b29dcca0",
   "metadata": {},
   "outputs": [
    {
     "name": "stdout",
     "output_type": "stream",
     "text": [
      "Karthick Ragul is a talented boy\n"
     ]
    }
   ],
   "source": [
    "print (name + \" is a talented boy\")"
   ]
  },
  {
   "cell_type": "markdown",
   "id": "187f46e3",
   "metadata": {},
   "source": [
    "Python has few built-in functions for Strings, Refer the Examples given below"
   ]
  },
  {
   "cell_type": "code",
   "execution_count": 8,
   "id": "88a2b7fc",
   "metadata": {},
   "outputs": [
    {
     "name": "stdout",
     "output_type": "stream",
     "text": [
      "KARTHICK RAGUL\n"
     ]
    }
   ],
   "source": [
    "print(name.upper())       # Here are just printing the string, we can't see the changes in the string"
   ]
  },
  {
   "cell_type": "code",
   "execution_count": 9,
   "id": "d1ccfda3",
   "metadata": {},
   "outputs": [],
   "source": [
    "name = name.lower()      # Here only we are reassigning the values for the string, so changes will be reflected in the string"
   ]
  },
  {
   "cell_type": "code",
   "execution_count": 10,
   "id": "77cc8b2d",
   "metadata": {},
   "outputs": [
    {
     "data": {
      "text/plain": [
       "'karthick ragul'"
      ]
     },
     "execution_count": 10,
     "metadata": {},
     "output_type": "execute_result"
    }
   ],
   "source": [
    "name "
   ]
  },
  {
   "cell_type": "markdown",
   "id": "428f7972",
   "metadata": {},
   "source": [
    "Split function in python for strings, Refer the below example"
   ]
  },
  {
   "cell_type": "code",
   "execution_count": 11,
   "id": "77c54a00",
   "metadata": {},
   "outputs": [
    {
     "data": {
      "text/plain": [
       "['karthick', 'ragul']"
      ]
     },
     "execution_count": 11,
     "metadata": {},
     "output_type": "execute_result"
    }
   ],
   "source": [
    "name.split()    # This split function splits the string using whitespace by default and makes that splits as list"
   ]
  },
  {
   "cell_type": "code",
   "execution_count": 13,
   "id": "9346dbe8",
   "metadata": {},
   "outputs": [
    {
     "data": {
      "text/plain": [
       "['k', 'rthick r', 'gul']"
      ]
     },
     "execution_count": 13,
     "metadata": {},
     "output_type": "execute_result"
    }
   ],
   "source": [
    "name.split('a')  # This split function splits the string using charatcter 'a' and makes the splits as list"
   ]
  },
  {
   "cell_type": "code",
   "execution_count": null,
   "id": "791509be",
   "metadata": {},
   "outputs": [],
   "source": []
  }
 ],
 "metadata": {
  "kernelspec": {
   "display_name": "Python 3 (ipykernel)",
   "language": "python",
   "name": "python3"
  },
  "language_info": {
   "codemirror_mode": {
    "name": "ipython",
    "version": 3
   },
   "file_extension": ".py",
   "mimetype": "text/x-python",
   "name": "python",
   "nbconvert_exporter": "python",
   "pygments_lexer": "ipython3",
   "version": "3.9.7"
  }
 },
 "nbformat": 4,
 "nbformat_minor": 5
}
