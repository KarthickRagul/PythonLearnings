{
 "cells": [
  {
   "cell_type": "markdown",
   "id": "cdc6652d",
   "metadata": {},
   "source": [
    "**1. Tab is one of the help options, 2. help(code) is also another help option, 3. docs.python.org is another help option**\n"
   ]
  },
  {
   "cell_type": "code",
   "execution_count": null,
   "id": "f3bf2f45",
   "metadata": {},
   "outputs": [],
   "source": [
    "print('hello')"
   ]
  },
  {
   "cell_type": "code",
   "execution_count": null,
   "id": "6c66480d",
   "metadata": {},
   "outputs": [],
   "source": [
    "# Creating functions \n",
    "\n",
    "def function_name(name,age):    # Here fun_name is in 'Snake casing is all in small letters'\n",
    "    '\"DocString is used for documented explanation for functions\"'  # This is used to give the description of the function\n",
    "    print('Hello '+name+' This is my first function.'+' This is ur age',age)\n",
    "    \n",
    "function_name('Karthick',22)    \n",
    "    \n",
    "    "
   ]
  },
  {
   "cell_type": "code",
   "execution_count": null,
   "id": "f5e055e3",
   "metadata": {},
   "outputs": [],
   "source": [
    "def example_return(name):\n",
    "    return ('Hi '+name)     # Return will pass the value where it is calling from\n",
    "\n",
    "print(example_return('Karthick'))       "
   ]
  },
  {
   "cell_type": "code",
   "execution_count": null,
   "id": "e5be5cd8",
   "metadata": {},
   "outputs": [],
   "source": [
    "def example(name='Default'):\n",
    "    print('Hi '+name)       # We can use return and print both in a function for long or big code, useful for viewing output\n",
    "    return('Hi '+name)\n",
    "    \n",
    "example()      # If we are not passing any parameter value for that, It will tke default as default value"
   ]
  },
  {
   "cell_type": "code",
   "execution_count": null,
   "id": "afdfc5a0",
   "metadata": {},
   "outputs": [],
   "source": [
    "def check_even(list_name):  # defining function\n",
    "    \n",
    "    even_number = []\n",
    "    \n",
    "    for value in list_name:\n",
    "        if value%2==0:\n",
    "            even_number.append(value)     # Appending the even numbers to the list\n",
    "        else:\n",
    "            pass       # This is placeholder, It says don't do anything\n",
    "        \n",
    "    return even_number\n",
    "            "
   ]
  },
  {
   "cell_type": "code",
   "execution_count": null,
   "id": "eb6e6c18",
   "metadata": {},
   "outputs": [],
   "source": [
    "check_even([1,2,3,4,5])"
   ]
  },
  {
   "cell_type": "code",
   "execution_count": null,
   "id": "cd563295",
   "metadata": {},
   "outputs": [],
   "source": [
    "check_even([1,3,5])"
   ]
  },
  {
   "cell_type": "markdown",
   "id": "1ebaf536",
   "metadata": {},
   "source": [
    "**Tuple unpacking with Python functions**"
   ]
  },
  {
   "cell_type": "code",
   "execution_count": null,
   "id": "8698f994",
   "metadata": {},
   "outputs": [],
   "source": [
    "my_list=[('karthick',8.4),('Ragul',9.9),('Kathir',9.8)]\n",
    "\n",
    "def rank_holder(my_list):\n",
    "    top_cgpa = 0.0\n",
    "    rank_holder=''\n",
    "    for name,cgpa in my_list:\n",
    "        if(cgpa>top_cgpa):\n",
    "            rank_holder=name\n",
    "            top_cgpa=cgpa\n",
    "            \n",
    "        else:\n",
    "            pass                       # This is a placeholder, don't do anything\n",
    "        \n",
    "    return (top_cgpa,rank_holder)            # returning result as Tuple"
   ]
  },
  {
   "cell_type": "code",
   "execution_count": null,
   "id": "717908f7",
   "metadata": {},
   "outputs": [],
   "source": [
    "result=rank_holder(my_list)            # This is a function call "
   ]
  },
  {
   "cell_type": "code",
   "execution_count": null,
   "id": "72d0a706",
   "metadata": {},
   "outputs": [],
   "source": [
    "result"
   ]
  },
  {
   "cell_type": "code",
   "execution_count": null,
   "id": "e45f53a2",
   "metadata": {},
   "outputs": [],
   "source": [
    "top_cgpa,name=rank_holder(my_list)  # Storing it in a separate variables "
   ]
  },
  {
   "cell_type": "code",
   "execution_count": null,
   "id": "90e9a4cc",
   "metadata": {},
   "outputs": [],
   "source": [
    "top_cgpa"
   ]
  },
  {
   "cell_type": "code",
   "execution_count": null,
   "id": "dfb22c26",
   "metadata": {},
   "outputs": [],
   "source": [
    "name"
   ]
  },
  {
   "cell_type": "code",
   "execution_count": null,
   "id": "ffd0080f",
   "metadata": {},
   "outputs": [],
   "source": [
    "#Guessing the Ball Example \n",
    "\n",
    "my_list=[' ','O',' ',' ']\n",
    "\n",
    "from random import shuffle    # importing suffle function \n",
    "\n",
    "def shuffle_list(name):      # in-built suffle function won't return any value\n",
    "    shuffle(name)\n",
    "    return name\n"
   ]
  },
  {
   "cell_type": "code",
   "execution_count": 2,
   "id": "e0feaebf",
   "metadata": {},
   "outputs": [],
   "source": [
    "shuffled_list=shuffle_list(my_list)"
   ]
  },
  {
   "cell_type": "code",
   "execution_count": 3,
   "id": "e24659de",
   "metadata": {},
   "outputs": [
    {
     "data": {
      "text/plain": [
       "[' ', ' ', 'O', ' ']"
      ]
     },
     "execution_count": 3,
     "metadata": {},
     "output_type": "execute_result"
    }
   ],
   "source": [
    "shuffled_list"
   ]
  },
  {
   "cell_type": "code",
   "execution_count": 5,
   "id": "b455c558",
   "metadata": {},
   "outputs": [],
   "source": [
    "def player_guess():    # This function is used to get the user guess \n",
    "     \n",
    "    guess =''\n",
    "    \n",
    "    while(guess not in ['1','2','3','4']):      # While loop is used to get the values in 1 to 4 \n",
    "        guess = input(\"Enter any value in 1,2,3 or 4\")  # It will keep asking for value if the value is different than 1,2,3,4\n",
    "        \n",
    "    return int(guess)       # Int type casting is due to input will return string value, so we type casting it to int\n",
    "        "
   ]
  },
  {
   "cell_type": "code",
   "execution_count": null,
   "id": "8b57c3b8",
   "metadata": {},
   "outputs": [],
   "source": [
    "player_guess()     # Function call for player_guess"
   ]
  },
  {
   "cell_type": "code",
   "execution_count": 6,
   "id": "cd886f6f",
   "metadata": {},
   "outputs": [],
   "source": [
    "def check_guess(shuffled_list, guess):\n",
    "    if(shuffled_list[guess]=='O'):\n",
    "        print(\"Congratulations !!!!\")\n",
    "        \n",
    "    else:\n",
    "        print(\"Better luck next time..\")\n",
    "        print(shuffled_list)"
   ]
  },
  {
   "cell_type": "code",
   "execution_count": 12,
   "id": "84604120",
   "metadata": {},
   "outputs": [
    {
     "name": "stdout",
     "output_type": "stream",
     "text": [
      "Enter any value in 1,2,3 or 41\n",
      "Better luck next time..\n",
      "[' ', ' ', 'O', ' ']\n"
     ]
    }
   ],
   "source": [
    "# Step by Step:\n",
    "\n",
    "#Intial List\n",
    "my_list=['O',' ',' ',' ']\n",
    "# Shuffle the list:\n",
    "shuffled_list=shuffle_list(my_list)\n",
    "\n",
    "# Getting player guess:\n",
    "my_guess=player_guess()\n",
    "\n",
    "# Checking the guess:\n",
    "check_guess(shuffled_list,my_guess)"
   ]
  }
 ],
 "metadata": {
  "kernelspec": {
   "display_name": "Python 3 (ipykernel)",
   "language": "python",
   "name": "python3"
  },
  "language_info": {
   "codemirror_mode": {
    "name": "ipython",
    "version": 3
   },
   "file_extension": ".py",
   "mimetype": "text/x-python",
   "name": "python",
   "nbconvert_exporter": "python",
   "pygments_lexer": "ipython3",
   "version": "3.9.7"
  }
 },
 "nbformat": 4,
 "nbformat_minor": 5
}
