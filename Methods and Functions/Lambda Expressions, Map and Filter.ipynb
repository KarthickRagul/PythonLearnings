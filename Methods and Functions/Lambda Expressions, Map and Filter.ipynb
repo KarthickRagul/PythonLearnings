{
 "cells": [
  {
   "cell_type": "markdown",
   "id": "0a3a9618",
   "metadata": {},
   "source": [
    "**Lambda Expression are used to use the anonyms function (use for one time only)**"
   ]
  },
  {
   "cell_type": "markdown",
   "id": "e3c9cd74",
   "metadata": {},
   "source": [
    "**map(), filter() functions are in-built functions used in python, It is taking function name as a paramter and executes the function on our behalf and returns the result**"
   ]
  },
  {
   "cell_type": "code",
   "execution_count": 4,
   "id": "dad76645",
   "metadata": {},
   "outputs": [
    {
     "data": {
      "text/plain": [
       "['K', 'a', 'r', 't', 'h', 'i', 'c', 'k']"
      ]
     },
     "execution_count": 4,
     "metadata": {},
     "output_type": "execute_result"
    }
   ],
   "source": [
    "# Example for map()\n",
    "\n",
    "def string_reverse(name):\n",
    "    return name[::-1]\n",
    "\n",
    "# map(string_reverse,'Karthick'), This will return the function location in memory\n",
    "\n",
    "list(map(string_reverse,'Karthick'))   # Here map function executes the string_reverse function and returns the result\n",
    "\n",
    "# Here we no need to mention () after funcion name "
   ]
  },
  {
   "cell_type": "code",
   "execution_count": 9,
   "id": "0ab26807",
   "metadata": {},
   "outputs": [
    {
     "name": "stdout",
     "output_type": "stream",
     "text": [
      "50\n",
      "60\n",
      "40\n",
      "50\n",
      "70\n"
     ]
    }
   ],
   "source": [
    "# Example 2\n",
    "\n",
    "def addition(num):\n",
    "    return num+20\n",
    "\n",
    "my_list=[30,40,20,30,50]\n",
    "\n",
    "# This will show the memory location of the function map(addition,my_list)\n",
    "\n",
    "for result in map(addition,my_list):\n",
    "    print(result)           # Thru loop iteration we can see the results else, we can use list(map(addition,my_list))"
   ]
  },
  {
   "cell_type": "code",
   "execution_count": 10,
   "id": "638c08fb",
   "metadata": {},
   "outputs": [
    {
     "data": {
      "text/plain": [
       "[50, 60, 40, 50, 70]"
      ]
     },
     "execution_count": 10,
     "metadata": {},
     "output_type": "execute_result"
    }
   ],
   "source": [
    "list(map(addition,my_list))"
   ]
  },
  {
   "cell_type": "code",
   "execution_count": 27,
   "id": "f3ffe02a",
   "metadata": {},
   "outputs": [
    {
     "name": "stdout",
     "output_type": "stream",
     "text": [
      "2\n",
      "4\n",
      "8\n"
     ]
    }
   ],
   "source": [
    "# Example for filter()\n",
    "\n",
    "def even_numbers(num):\n",
    "    if num%2==0:\n",
    "        return num\n",
    "\n",
    "my_list=[1,2,4,5,7,8,9]\n",
    "\n",
    "# filter(odd_numbers,my_list) This will show the memory location of the function\n",
    "\n",
    "for result in filter(even_numbers,my_list):  # filter function will execute the function condition mentioned\n",
    "    print(result)"
   ]
  },
  {
   "cell_type": "code",
   "execution_count": 28,
   "id": "93a10b5a",
   "metadata": {},
   "outputs": [
    {
     "data": {
      "text/plain": [
       "[2, 4, 8]"
      ]
     },
     "execution_count": 28,
     "metadata": {},
     "output_type": "execute_result"
    }
   ],
   "source": [
    "list(filter(even_numbers,my_list))   # Filter function will execute the execute the function condition"
   ]
  },
  {
   "cell_type": "code",
   "execution_count": 32,
   "id": "dbefb83b",
   "metadata": {},
   "outputs": [],
   "source": [
    "# Example for Lambda Functions\n",
    "\n",
    "# We no need to define the function\n",
    "\n",
    "even=lambda num:num%2==0   # We no need to mention return statement, by default it will automatically return after ':'"
   ]
  },
  {
   "cell_type": "code",
   "execution_count": 38,
   "id": "e0a391fa",
   "metadata": {},
   "outputs": [
    {
     "data": {
      "text/plain": [
       "True"
      ]
     },
     "execution_count": 38,
     "metadata": {},
     "output_type": "execute_result"
    }
   ],
   "source": [
    "even(4)"
   ]
  },
  {
   "cell_type": "code",
   "execution_count": 47,
   "id": "50404b62",
   "metadata": {},
   "outputs": [
    {
     "data": {
      "text/plain": [
       "[2, 4]"
      ]
     },
     "execution_count": 47,
     "metadata": {},
     "output_type": "execute_result"
    }
   ],
   "source": [
    "num=[1,2,3,4]\n",
    "list(filter(lambda num:num%2==0,num))  # Ananomous lambda function using filter function"
   ]
  },
  {
   "cell_type": "code",
   "execution_count": 49,
   "id": "da30346c",
   "metadata": {},
   "outputs": [
    {
     "data": {
      "text/plain": [
       "[15, 16, 17, 18]"
      ]
     },
     "execution_count": 49,
     "metadata": {},
     "output_type": "execute_result"
    }
   ],
   "source": [
    "num=[5,6,7,8]\n",
    "list(map(lambda num:num+10,num))  # Ananomous lambda function using map function"
   ]
  },
  {
   "cell_type": "code",
   "execution_count": 51,
   "id": "bc4ab622",
   "metadata": {},
   "outputs": [],
   "source": [
    "names=['Karthick','Uthir','Natarajan']"
   ]
  },
  {
   "cell_type": "code",
   "execution_count": 54,
   "id": "d05b38c5",
   "metadata": {},
   "outputs": [
    {
     "data": {
      "text/plain": [
       "['kcihtraK', 'rihtU', 'najarataN']"
      ]
     },
     "execution_count": 54,
     "metadata": {},
     "output_type": "execute_result"
    }
   ],
   "source": [
    "list(map(lambda name:name[::-1],names))"
   ]
  },
  {
   "cell_type": "code",
   "execution_count": 55,
   "id": "6987c7a4",
   "metadata": {},
   "outputs": [
    {
     "data": {
      "text/plain": [
       "['Karthick', 'Uthir', 'Natarajan']"
      ]
     },
     "execution_count": 55,
     "metadata": {},
     "output_type": "execute_result"
    }
   ],
   "source": [
    "names"
   ]
  },
  {
   "cell_type": "code",
   "execution_count": null,
   "id": "f2bb3de3",
   "metadata": {},
   "outputs": [],
   "source": []
  }
 ],
 "metadata": {
  "kernelspec": {
   "display_name": "Python 3 (ipykernel)",
   "language": "python",
   "name": "python3"
  },
  "language_info": {
   "codemirror_mode": {
    "name": "ipython",
    "version": 3
   },
   "file_extension": ".py",
   "mimetype": "text/x-python",
   "name": "python",
   "nbconvert_exporter": "python",
   "pygments_lexer": "ipython3",
   "version": "3.9.7"
  }
 },
 "nbformat": 4,
 "nbformat_minor": 5
}
