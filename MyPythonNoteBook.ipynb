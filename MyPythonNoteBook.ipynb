{
 "cells": [
  {
   "cell_type": "code",
   "execution_count": 3,
   "id": "b832279f",
   "metadata": {},
   "outputs": [
    {
     "name": "stdout",
     "output_type": "stream",
     "text": [
      "Python is interesting\n"
     ]
    }
   ],
   "source": [
    "print('Python is interesting')"
   ]
  },
  {
   "cell_type": "code",
   "execution_count": 4,
   "id": "1e45db12",
   "metadata": {},
   "outputs": [
    {
     "name": "stdout",
     "output_type": "stream",
     "text": [
      "My Name is Karthick Ragul\n"
     ]
    }
   ],
   "source": [
    "print('My Name is Karthick Ragul')"
   ]
  },
  {
   "cell_type": "markdown",
   "id": "1b2ee08c",
   "metadata": {},
   "source": [
    "This is my first python code"
   ]
  },
  {
   "cell_type": "markdown",
   "id": "67ca2b47",
   "metadata": {},
   "source": [
    "Markdown is used to add the comments \n"
   ]
  },
  {
   "cell_type": "code",
   "execution_count": null,
   "id": "ffb350fb",
   "metadata": {},
   "outputs": [],
   "source": []
  }
 ],
 "metadata": {
  "kernelspec": {
   "display_name": "Python 3 (ipykernel)",
   "language": "python",
   "name": "python3"
  },
  "language_info": {
   "codemirror_mode": {
    "name": "ipython",
    "version": 3
   },
   "file_extension": ".py",
   "mimetype": "text/x-python",
   "name": "python",
   "nbconvert_exporter": "python",
   "pygments_lexer": "ipython3",
   "version": "3.9.7"
  }
 },
 "nbformat": 4,
 "nbformat_minor": 5
}
