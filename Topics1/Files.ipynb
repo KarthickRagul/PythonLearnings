{
 "cells": [
  {
   "cell_type": "markdown",
   "id": "aa0c6b6a",
   "metadata": {},
   "source": [
    "I/O in Basic Files in Python"
   ]
  },
  {
   "cell_type": "markdown",
   "id": "7683abf6",
   "metadata": {},
   "source": [
    "Creating the basic .txt file in Jupyter notebook"
   ]
  },
  {
   "cell_type": "code",
   "execution_count": 21,
   "id": "353b0412",
   "metadata": {},
   "outputs": [
    {
     "name": "stdout",
     "output_type": "stream",
     "text": [
      "Overwriting sample.txt\n"
     ]
    }
   ],
   "source": [
    "%%writefile sample.txt\n",
    "This is a sample file created using jupyter nb\n",
    "This feature is only available in jupyter nb\n",
    "We can make use of it\n"
   ]
  },
  {
   "cell_type": "code",
   "execution_count": 22,
   "id": "52eca4b3",
   "metadata": {},
   "outputs": [],
   "source": [
    "my_file=open('sample.txt')   # This is used to open the file using the cursor"
   ]
  },
  {
   "cell_type": "code",
   "execution_count": 5,
   "id": "80f8cfc3",
   "metadata": {},
   "outputs": [
    {
     "data": {
      "text/plain": [
       "'This is a sample file created using jupyter nb\\nThis feature is only available in jupyter nb\\nWe can make use of it\\n'"
      ]
     },
     "execution_count": 5,
     "metadata": {},
     "output_type": "execute_result"
    }
   ],
   "source": [
    "my_file.read()  # This is used to read the contents of the file. It will return as a single string"
   ]
  },
  {
   "cell_type": "code",
   "execution_count": 6,
   "id": "047fb4ac",
   "metadata": {},
   "outputs": [
    {
     "data": {
      "text/plain": [
       "''"
      ]
     },
     "execution_count": 6,
     "metadata": {},
     "output_type": "execute_result"
    }
   ],
   "source": [
    "my_file.read() # If we use the same read() after the read function, It will return empty lines. We need to set the cursor to the start"
   ]
  },
  {
   "cell_type": "code",
   "execution_count": 7,
   "id": "f7a8c9b9",
   "metadata": {},
   "outputs": [
    {
     "data": {
      "text/plain": [
       "0"
      ]
     },
     "execution_count": 7,
     "metadata": {},
     "output_type": "execute_result"
    }
   ],
   "source": [
    "my_file.seek(0) # This command is used to set the cursor to the starting of the line. We can use read() after this"
   ]
  },
  {
   "cell_type": "code",
   "execution_count": 8,
   "id": "691097e1",
   "metadata": {},
   "outputs": [
    {
     "data": {
      "text/plain": [
       "'This is a sample file created using jupyter nb\\nThis feature is only available in jupyter nb\\nWe can make use of it\\n'"
      ]
     },
     "execution_count": 8,
     "metadata": {},
     "output_type": "execute_result"
    }
   ],
   "source": [
    "my_file.read()"
   ]
  },
  {
   "cell_type": "code",
   "execution_count": 9,
   "id": "7c5475ab",
   "metadata": {},
   "outputs": [
    {
     "data": {
      "text/plain": [
       "[]"
      ]
     },
     "execution_count": 9,
     "metadata": {},
     "output_type": "execute_result"
    }
   ],
   "source": [
    "my_file.readlines() # It will not contain any values in it, so we need to assign the cursor to the start"
   ]
  },
  {
   "cell_type": "code",
   "execution_count": 10,
   "id": "b49b5df6",
   "metadata": {},
   "outputs": [
    {
     "data": {
      "text/plain": [
       "0"
      ]
     },
     "execution_count": 10,
     "metadata": {},
     "output_type": "execute_result"
    }
   ],
   "source": [
    "my_file.seek(0)"
   ]
  },
  {
   "cell_type": "code",
   "execution_count": 11,
   "id": "c22f115a",
   "metadata": {},
   "outputs": [
    {
     "data": {
      "text/plain": [
       "['This is a sample file created using jupyter nb\\n',\n",
       " 'This feature is only available in jupyter nb\\n',\n",
       " 'We can make use of it\\n']"
      ]
     },
     "execution_count": 11,
     "metadata": {},
     "output_type": "execute_result"
    }
   ],
   "source": [
    "my_file.readlines() # This will store the each line as a list "
   ]
  },
  {
   "cell_type": "code",
   "execution_count": 18,
   "id": "80f01e37",
   "metadata": {},
   "outputs": [],
   "source": [
    "my_file.close()  # This is best practice to close the file, once the job is done with it. To Avoid Error's"
   ]
  },
  {
   "cell_type": "markdown",
   "id": "ce0df987",
   "metadata": {},
   "source": [
    "We can access the system files using the below code"
   ]
  },
  {
   "cell_type": "code",
   "execution_count": 13,
   "id": "ef091f5d",
   "metadata": {},
   "outputs": [],
   "source": [
    "my_sys_file=open('D:\\SSIS Source Files\\Redirect Rows from flat file.txt')  # Provide the file location "
   ]
  },
  {
   "cell_type": "code",
   "execution_count": 15,
   "id": "c9972256",
   "metadata": {},
   "outputs": [
    {
     "data": {
      "text/plain": [
       "'id,name\\n1a,karthick Raheytdb\\n2,babu\\n3,chinnu\\n4,bala'"
      ]
     },
     "execution_count": 15,
     "metadata": {},
     "output_type": "execute_result"
    }
   ],
   "source": [
    "my_sys_file.read()   # To read the content of the files"
   ]
  },
  {
   "cell_type": "code",
   "execution_count": 27,
   "id": "e229b7c3",
   "metadata": {},
   "outputs": [],
   "source": [
    "with open('D:\\SSIS Source Files\\Redirect Rows from flat file.txt') as my_jup_file:  # If we use with we no need to worry about closing the file\n",
    "    contents=my_jup_file.readlines()                                           "
   ]
  },
  {
   "cell_type": "code",
   "execution_count": 28,
   "id": "ef587b44",
   "metadata": {},
   "outputs": [
    {
     "data": {
      "text/plain": [
       "['id,name\\n', '1a,karthick Raheytdb\\n', '2,babu\\n', '3,chinnu\\n', '4,bala']"
      ]
     },
     "execution_count": 28,
     "metadata": {},
     "output_type": "execute_result"
    }
   ],
   "source": [
    "contents"
   ]
  },
  {
   "cell_type": "markdown",
   "id": "62a8e0a1",
   "metadata": {},
   "source": [
    "To play with the mode's of files. Refer the below Examples. Diff types of modes available:\n",
    "Refer the link for more details : https://tutorial.eyehunts.com/python/python-file-modes-open-write-append-r-r-w-w-x-etc/"
   ]
  },
  {
   "cell_type": "code",
   "execution_count": 41,
   "id": "b2fbc976",
   "metadata": {},
   "outputs": [
    {
     "name": "stdout",
     "output_type": "stream",
     "text": [
      "Overwriting my_new_file.txt\n"
     ]
    }
   ],
   "source": [
    "%%writefile my_new_file.txt\n",
    "Line no 1\n",
    "Line no 2\n",
    "Line no 3\n",
    "And so on"
   ]
  },
  {
   "cell_type": "code",
   "execution_count": 42,
   "id": "72334add",
   "metadata": {},
   "outputs": [
    {
     "name": "stdout",
     "output_type": "stream",
     "text": [
      "Line no 1\n",
      "Line no 2\n",
      "Line no 3\n",
      "And so on\n",
      "\n"
     ]
    }
   ],
   "source": [
    "with open('my_new_file.txt', mode='r') as read_mode:  # using 'r' mode, we can read the contents of the file\n",
    "    print(read_mode.read())"
   ]
  },
  {
   "cell_type": "code",
   "execution_count": 43,
   "id": "6896f94f",
   "metadata": {},
   "outputs": [],
   "source": [
    "with open('my_new_file.txt', mode='a') as append_mode:   # This is used to append the value to the file\n",
    "    append_mode.write('The end')"
   ]
  },
  {
   "cell_type": "code",
   "execution_count": 44,
   "id": "26473a3d",
   "metadata": {},
   "outputs": [
    {
     "name": "stdout",
     "output_type": "stream",
     "text": [
      "Line no 1\n",
      "Line no 2\n",
      "Line no 3\n",
      "And so on\n",
      "The end\n"
     ]
    }
   ],
   "source": [
    "with open('my_new_file.txt', mode='r') as read_mode:   # to see the appends, we can use the mode 'r' to see the changes\n",
    "    print(read_mode.read())"
   ]
  },
  {
   "cell_type": "code",
   "execution_count": 45,
   "id": "3703ab47",
   "metadata": {},
   "outputs": [],
   "source": [
    "with open('write_file.txt', mode='w') as write_mode:  #  this is used to write the contents to the file, It overrides if file exist, else creates a new file\n",
    "    write_mode.write('Example is over')"
   ]
  },
  {
   "cell_type": "code",
   "execution_count": 47,
   "id": "c2f9477e",
   "metadata": {},
   "outputs": [
    {
     "name": "stdout",
     "output_type": "stream",
     "text": [
      "Example is over\n"
     ]
    }
   ],
   "source": [
    "with open('write_file.txt', mode='r') as write_mode:  # this is used to see the writing of the file\n",
    "    print(write_mode.read())"
   ]
  },
  {
   "cell_type": "code",
   "execution_count": null,
   "id": "7334bdeb",
   "metadata": {},
   "outputs": [],
   "source": []
  }
 ],
 "metadata": {
  "kernelspec": {
   "display_name": "Python 3 (ipykernel)",
   "language": "python",
   "name": "python3"
  },
  "language_info": {
   "codemirror_mode": {
    "name": "ipython",
    "version": 3
   },
   "file_extension": ".py",
   "mimetype": "text/x-python",
   "name": "python",
   "nbconvert_exporter": "python",
   "pygments_lexer": "ipython3",
   "version": "3.9.7"
  }
 },
 "nbformat": 4,
 "nbformat_minor": 5
}
