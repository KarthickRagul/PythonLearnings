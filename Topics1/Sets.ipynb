{
 "cells": [
  {
   "cell_type": "markdown",
   "id": "371f7dfa",
   "metadata": {},
   "source": [
    "Sets are unordered collection of unique elements. Refer the below Examples "
   ]
  },
  {
   "cell_type": "code",
   "execution_count": 1,
   "id": "286c3bca",
   "metadata": {},
   "outputs": [],
   "source": [
    "my_set=set()    # This is the declaration of set object"
   ]
  },
  {
   "cell_type": "code",
   "execution_count": 4,
   "id": "5c6d84a8",
   "metadata": {},
   "outputs": [
    {
     "data": {
      "text/plain": [
       "set()"
      ]
     },
     "execution_count": 4,
     "metadata": {},
     "output_type": "execute_result"
    }
   ],
   "source": [
    "my_set  "
   ]
  },
  {
   "cell_type": "code",
   "execution_count": 5,
   "id": "860f7457",
   "metadata": {},
   "outputs": [],
   "source": [
    "my_set.add(1)  # Adding element to the set "
   ]
  },
  {
   "cell_type": "code",
   "execution_count": 6,
   "id": "0266407f",
   "metadata": {},
   "outputs": [
    {
     "data": {
      "text/plain": [
       "{1}"
      ]
     },
     "execution_count": 6,
     "metadata": {},
     "output_type": "execute_result"
    }
   ],
   "source": [
    "my_set    # Results looks like dictionary, but it doesn't contain key:value pair type"
   ]
  },
  {
   "cell_type": "code",
   "execution_count": 8,
   "id": "192aa5b1",
   "metadata": {},
   "outputs": [],
   "source": [
    "my_set.add(2)"
   ]
  },
  {
   "cell_type": "code",
   "execution_count": 9,
   "id": "0357f649",
   "metadata": {},
   "outputs": [],
   "source": [
    "my_set.add(2)   # Set should not allow duplicate values in it. Execute the below statement to check "
   ]
  },
  {
   "cell_type": "code",
   "execution_count": 11,
   "id": "4c3afb5f",
   "metadata": {},
   "outputs": [
    {
     "data": {
      "text/plain": [
       "{1, 2}"
      ]
     },
     "execution_count": 11,
     "metadata": {},
     "output_type": "execute_result"
    }
   ],
   "source": [
    "my_set"
   ]
  },
  {
   "cell_type": "code",
   "execution_count": 12,
   "id": "43dd25b0",
   "metadata": {},
   "outputs": [],
   "source": [
    "my_list=[1,1,2,3,2,4,5,5,4,3]     "
   ]
  },
  {
   "cell_type": "code",
   "execution_count": 14,
   "id": "f9b8f40e",
   "metadata": {},
   "outputs": [
    {
     "data": {
      "text/plain": [
       "{1, 2, 3, 4, 5}"
      ]
     },
     "execution_count": 14,
     "metadata": {},
     "output_type": "execute_result"
    }
   ],
   "source": [
    "set(my_list)   # Converting the List object to Set. It will allow only the unique values"
   ]
  },
  {
   "cell_type": "code",
   "execution_count": 15,
   "id": "e78efca9",
   "metadata": {},
   "outputs": [],
   "source": [
    "my_str_set=set()"
   ]
  },
  {
   "cell_type": "code",
   "execution_count": 16,
   "id": "77167a1f",
   "metadata": {},
   "outputs": [
    {
     "data": {
      "text/plain": [
       "set()"
      ]
     },
     "execution_count": 16,
     "metadata": {},
     "output_type": "execute_result"
    }
   ],
   "source": [
    "my_str_set"
   ]
  },
  {
   "cell_type": "code",
   "execution_count": 17,
   "id": "8fc03971",
   "metadata": {},
   "outputs": [],
   "source": [
    "my_str_set.add('a')\n",
    "my_str_set.add('b')\n",
    "my_str_set.add('c')\n",
    "my_str_set.add('adef')"
   ]
  },
  {
   "cell_type": "code",
   "execution_count": 18,
   "id": "2b90ce51",
   "metadata": {},
   "outputs": [
    {
     "data": {
      "text/plain": [
       "{'a', 'adef', 'b', 'c'}"
      ]
     },
     "execution_count": 18,
     "metadata": {},
     "output_type": "execute_result"
    }
   ],
   "source": [
    "my_str_set"
   ]
  },
  {
   "cell_type": "markdown",
   "id": "04301ae6",
   "metadata": {},
   "source": [
    "Refer the link for set functions : https://www.w3schools.com/python/python_ref_set.asp"
   ]
  }
 ],
 "metadata": {
  "kernelspec": {
   "display_name": "Python 3 (ipykernel)",
   "language": "python",
   "name": "python3"
  },
  "language_info": {
   "codemirror_mode": {
    "name": "ipython",
    "version": 3
   },
   "file_extension": ".py",
   "mimetype": "text/x-python",
   "name": "python",
   "nbconvert_exporter": "python",
   "pygments_lexer": "ipython3",
   "version": "3.9.7"
  }
 },
 "nbformat": 4,
 "nbformat_minor": 5
}
