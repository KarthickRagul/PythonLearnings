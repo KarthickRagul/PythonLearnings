{
 "cells": [
  {
   "cell_type": "code",
   "execution_count": 6,
   "id": "168ca998",
   "metadata": {},
   "outputs": [
    {
     "name": "stdout",
     "output_type": "stream",
     "text": [
      "Suresh is invited for a dinner on Jan 1st\n",
      "Praveen is invited for a dinner on Jan 1st\n",
      "Hari is invited for a dinner on Jan 1st\n",
      "Karthick is invited for a dinner on Jan 1st\n",
      "*******************************************\n",
      "Karthick is not available for the dinner\n"
     ]
    }
   ],
   "source": [
    "## List Real Time Example \n",
    "\n",
    "Guests = ['Suresh','Praveen','Hari','Karthick']\n",
    "\n",
    "print(Guests[0]+\" is invited for a dinner on Jan 1st\")\n",
    "print(Guests[1]+\" is invited for a dinner on Jan 1st\")\n",
    "print(Guests[2]+\" is invited for a dinner on Jan 1st\")\n",
    "print(Guests[3]+\" is invited for a dinner on Jan 1st\")\n",
    "\n",
    "print(\"*******************************************\")\n",
    "\n",
    "Missed_person = Guests.pop(3)\n",
    "print(Missed_person + \" is not available for the dinner\")\n",
    "\n"
   ]
  },
  {
   "cell_type": "code",
   "execution_count": 9,
   "id": "27c7a710",
   "metadata": {},
   "outputs": [],
   "source": [
    "Modified_list = Guests"
   ]
  },
  {
   "cell_type": "code",
   "execution_count": 10,
   "id": "e5a0e917",
   "metadata": {},
   "outputs": [
    {
     "data": {
      "text/plain": [
       "['Suresh', 'Praveen', 'Hari']"
      ]
     },
     "execution_count": 10,
     "metadata": {},
     "output_type": "execute_result"
    }
   ],
   "source": [
    "Modified_list"
   ]
  },
  {
   "cell_type": "code",
   "execution_count": 13,
   "id": "e7b5b16e",
   "metadata": {},
   "outputs": [],
   "source": [
    "New_Guest_added = Modified_list\n",
    "\n",
    "Modified_list.append('Gopal')"
   ]
  },
  {
   "cell_type": "code",
   "execution_count": 16,
   "id": "8ee465c2",
   "metadata": {},
   "outputs": [
    {
     "data": {
      "text/plain": [
       "['Suresh', 'Praveen', 'Hari', 'Gopal']"
      ]
     },
     "execution_count": 16,
     "metadata": {},
     "output_type": "execute_result"
    }
   ],
   "source": [
    "New_Guest_added"
   ]
  },
  {
   "cell_type": "code",
   "execution_count": null,
   "id": "70ae8893",
   "metadata": {},
   "outputs": [],
   "source": []
  }
 ],
 "metadata": {
  "kernelspec": {
   "display_name": "Python 3 (ipykernel)",
   "language": "python",
   "name": "python3"
  },
  "language_info": {
   "codemirror_mode": {
    "name": "ipython",
    "version": 3
   },
   "file_extension": ".py",
   "mimetype": "text/x-python",
   "name": "python",
   "nbconvert_exporter": "python",
   "pygments_lexer": "ipython3",
   "version": "3.9.7"
  }
 },
 "nbformat": 4,
 "nbformat_minor": 5
}
