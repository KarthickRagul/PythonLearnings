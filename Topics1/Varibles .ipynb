{
 "cells": [
  {
   "cell_type": "markdown",
   "id": "eda26ced",
   "metadata": {},
   "source": [
    "In Python Variables Reassignments can be achived (i.e) a=5 later a=['karthick','Ragul'] is called as \"Dynamic Typing\""
   ]
  },
  {
   "cell_type": "code",
   "execution_count": 2,
   "id": "631240cf",
   "metadata": {},
   "outputs": [
    {
     "name": "stdout",
     "output_type": "stream",
     "text": [
      "10\n"
     ]
    }
   ],
   "source": [
    "a = 10\n",
    "print (a)"
   ]
  },
  {
   "cell_type": "markdown",
   "id": "cfae5e99",
   "metadata": {},
   "source": [
    "If you run the below sell, you can see the values of 'a', every execution it is reassigning the values, In python script env. we can't see the difference execution level, because there will be single line of code"
   ]
  },
  {
   "cell_type": "code",
   "execution_count": 7,
   "id": "b197591e",
   "metadata": {},
   "outputs": [
    {
     "name": "stdout",
     "output_type": "stream",
     "text": [
      "80\n"
     ]
    }
   ],
   "source": [
    "a=a+a\n",
    "print (a)      "
   ]
  },
  {
   "cell_type": "markdown",
   "id": "e4a85f45",
   "metadata": {},
   "source": [
    "'type()' this function is used get the type of the variable. Refer the example "
   ]
  },
  {
   "cell_type": "code",
   "execution_count": 9,
   "id": "b3e8591e",
   "metadata": {},
   "outputs": [],
   "source": [
    "a=5"
   ]
  },
  {
   "cell_type": "code",
   "execution_count": 10,
   "id": "e05517eb",
   "metadata": {},
   "outputs": [
    {
     "data": {
      "text/plain": [
       "int"
      ]
     },
     "execution_count": 10,
     "metadata": {},
     "output_type": "execute_result"
    }
   ],
   "source": [
    "type(a)"
   ]
  },
  {
   "cell_type": "markdown",
   "id": "1f5bf7d0",
   "metadata": {},
   "source": [
    "Reassigning the same varible 'a' with different data type values"
   ]
  },
  {
   "cell_type": "code",
   "execution_count": 11,
   "id": "164dcd61",
   "metadata": {},
   "outputs": [],
   "source": [
    "a=40.222"
   ]
  },
  {
   "cell_type": "code",
   "execution_count": 12,
   "id": "9de5d655",
   "metadata": {},
   "outputs": [
    {
     "data": {
      "text/plain": [
       "float"
      ]
     },
     "execution_count": 12,
     "metadata": {},
     "output_type": "execute_result"
    }
   ],
   "source": [
    "type(a)"
   ]
  },
  {
   "cell_type": "markdown",
   "id": "c17186ad",
   "metadata": {},
   "source": [
    "Simple Example using variables"
   ]
  },
  {
   "cell_type": "code",
   "execution_count": 14,
   "id": "c5b50472",
   "metadata": {},
   "outputs": [],
   "source": [
    "my_salary = 20000\n",
    "tax_rate = 0.5\n",
    "my_tax = my_salary * tax_rate"
   ]
  },
  {
   "cell_type": "code",
   "execution_count": 15,
   "id": "84bb0614",
   "metadata": {},
   "outputs": [
    {
     "data": {
      "text/plain": [
       "10000.0"
      ]
     },
     "execution_count": 15,
     "metadata": {},
     "output_type": "execute_result"
    }
   ],
   "source": [
    "my_tax"
   ]
  }
 ],
 "metadata": {
  "kernelspec": {
   "display_name": "Python 3 (ipykernel)",
   "language": "python",
   "name": "python3"
  },
  "language_info": {
   "codemirror_mode": {
    "name": "ipython",
    "version": 3
   },
   "file_extension": ".py",
   "mimetype": "text/x-python",
   "name": "python",
   "nbconvert_exporter": "python",
   "pygments_lexer": "ipython3",
   "version": "3.9.7"
  }
 },
 "nbformat": 4,
 "nbformat_minor": 5
}
