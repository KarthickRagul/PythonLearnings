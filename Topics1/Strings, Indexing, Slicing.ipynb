{
 "cells": [
  {
   "cell_type": "markdown",
   "id": "48384e38",
   "metadata": {},
   "source": [
    "Strings can be represented in single (') or double (\") quotes. Each has some specific behavior. Refer the Examples"
   ]
  },
  {
   "cell_type": "markdown",
   "id": "40e8ce6a",
   "metadata": {},
   "source": [
    "Here we are just giving the input as string with single quotes"
   ]
  },
  {
   "cell_type": "code",
   "execution_count": 1,
   "id": "99b3cf31",
   "metadata": {},
   "outputs": [
    {
     "data": {
      "text/plain": [
       "'hello world'"
      ]
     },
     "execution_count": 1,
     "metadata": {},
     "output_type": "execute_result"
    }
   ],
   "source": [
    "'hello world'"
   ]
  },
  {
   "cell_type": "markdown",
   "id": "8c733ab5",
   "metadata": {},
   "source": [
    "Here we are just giving the input as string with double quotes"
   ]
  },
  {
   "cell_type": "code",
   "execution_count": 2,
   "id": "a22b081c",
   "metadata": {},
   "outputs": [
    {
     "data": {
      "text/plain": [
       "'Hello'"
      ]
     },
     "execution_count": 2,
     "metadata": {},
     "output_type": "execute_result"
    }
   ],
   "source": [
    "\"Hello\""
   ]
  },
  {
   "cell_type": "markdown",
   "id": "403ba7fd",
   "metadata": {},
   "source": [
    "Limitation of single quotes. If u run the below script, It will gives u an syntax error because of ' quotes confusion"
   ]
  },
  {
   "cell_type": "code",
   "execution_count": 4,
   "id": "ab05ed8e",
   "metadata": {},
   "outputs": [
    {
     "ename": "SyntaxError",
     "evalue": "invalid syntax (Temp/ipykernel_18244/3491208555.py, line 1)",
     "output_type": "error",
     "traceback": [
      "\u001b[1;36m  File \u001b[1;32m\"C:\\Users\\karth\\AppData\\Local\\Temp/ipykernel_18244/3491208555.py\"\u001b[1;36m, line \u001b[1;32m1\u001b[0m\n\u001b[1;33m    'I'm Karthick'\u001b[0m\n\u001b[1;37m       ^\u001b[0m\n\u001b[1;31mSyntaxError\u001b[0m\u001b[1;31m:\u001b[0m invalid syntax\n"
     ]
    }
   ],
   "source": [
    "'I'm Karthick'"
   ]
  },
  {
   "cell_type": "markdown",
   "id": "b6dfd142",
   "metadata": {},
   "source": [
    "To resolve the above problem, we need to enclose the string with double quotes"
   ]
  },
  {
   "cell_type": "code",
   "execution_count": 5,
   "id": "b0840e70",
   "metadata": {},
   "outputs": [
    {
     "data": {
      "text/plain": [
       "\"I'm Karthick\""
      ]
     },
     "execution_count": 5,
     "metadata": {},
     "output_type": "execute_result"
    }
   ],
   "source": [
    "\"I'm Karthick\""
   ]
  },
  {
   "cell_type": "markdown",
   "id": "8b604269",
   "metadata": {},
   "source": [
    "Using print function to print the result, Here we can't see the single quotes"
   ]
  },
  {
   "cell_type": "code",
   "execution_count": 6,
   "id": "f630fa89",
   "metadata": {},
   "outputs": [
    {
     "name": "stdout",
     "output_type": "stream",
     "text": [
      "Hello\n"
     ]
    }
   ],
   "source": [
    "print(\"Hello\")"
   ]
  },
  {
   "cell_type": "markdown",
   "id": "557104e7",
   "metadata": {},
   "source": [
    "If you run the below script, It will print the last line of the code, To avoid this we need to use print()"
   ]
  },
  {
   "cell_type": "code",
   "execution_count": 7,
   "id": "872229c6",
   "metadata": {},
   "outputs": [
    {
     "data": {
      "text/plain": [
       "'hi'"
      ]
     },
     "execution_count": 7,
     "metadata": {},
     "output_type": "execute_result"
    }
   ],
   "source": [
    "'hello'\n",
    "'hi'"
   ]
  },
  {
   "cell_type": "code",
   "execution_count": 8,
   "id": "cf25de10",
   "metadata": {},
   "outputs": [
    {
     "name": "stdout",
     "output_type": "stream",
     "text": [
      "Hi\n",
      "Hello\n"
     ]
    }
   ],
   "source": [
    "print('Hi')\n",
    "print('Hello')"
   ]
  },
  {
   "cell_type": "markdown",
   "id": "ed12fda0",
   "metadata": {},
   "source": [
    "Use of Escape Sequence characters : \\t is used for tab space, \\n is used for new line"
   ]
  },
  {
   "cell_type": "code",
   "execution_count": 9,
   "id": "52b3034c",
   "metadata": {},
   "outputs": [
    {
     "name": "stdout",
     "output_type": "stream",
     "text": [
      "Karthick\tRagul\n",
      "Python is Awesome\n"
     ]
    }
   ],
   "source": [
    "print('Karthick\\tRagul\\nPython is Awesome')"
   ]
  },
  {
   "cell_type": "markdown",
   "id": "47fcf9ed",
   "metadata": {},
   "source": [
    "len() this function is used to find the length of the string"
   ]
  },
  {
   "cell_type": "code",
   "execution_count": 11,
   "id": "32495e83",
   "metadata": {},
   "outputs": [
    {
     "data": {
      "text/plain": [
       "14"
      ]
     },
     "execution_count": 11,
     "metadata": {},
     "output_type": "execute_result"
    }
   ],
   "source": [
    "len('Karthick Ragul')"
   ]
  },
  {
   "cell_type": "markdown",
   "id": "e9365dde",
   "metadata": {},
   "source": [
    "Indexing of Strings, Refer the below Example"
   ]
  },
  {
   "cell_type": "code",
   "execution_count": 12,
   "id": "e5a36eab",
   "metadata": {},
   "outputs": [],
   "source": [
    "name = \"Karthick Ragul\""
   ]
  },
  {
   "cell_type": "code",
   "execution_count": 13,
   "id": "4d2da265",
   "metadata": {},
   "outputs": [
    {
     "data": {
      "text/plain": [
       "'Karthick Ragul'"
      ]
     },
     "execution_count": 13,
     "metadata": {},
     "output_type": "execute_result"
    }
   ],
   "source": [
    "name"
   ]
  },
  {
   "cell_type": "markdown",
   "id": "cf908961",
   "metadata": {},
   "source": [
    "The Below script is used to find the character present in the specified positive index. Indexing like [0,1,2,3] "
   ]
  },
  {
   "cell_type": "code",
   "execution_count": 14,
   "id": "1441842c",
   "metadata": {},
   "outputs": [
    {
     "data": {
      "text/plain": [
       "'h'"
      ]
     },
     "execution_count": 14,
     "metadata": {},
     "output_type": "execute_result"
    }
   ],
   "source": [
    "name [4]"
   ]
  },
  {
   "cell_type": "markdown",
   "id": "3c047135",
   "metadata": {},
   "source": [
    "The Below script is used to find the character present in the specified negative index. Indexing like [0,-4,-3,-2,-1]"
   ]
  },
  {
   "cell_type": "code",
   "execution_count": 15,
   "id": "c0bcab62",
   "metadata": {},
   "outputs": [
    {
     "data": {
      "text/plain": [
       "'u'"
      ]
     },
     "execution_count": 15,
     "metadata": {},
     "output_type": "execute_result"
    }
   ],
   "source": [
    "name [-2]"
   ]
  },
  {
   "cell_type": "markdown",
   "id": "599db02e",
   "metadata": {},
   "source": [
    "String Slicing. This is used to get the subset of the string. Syntax : String[start:end:step_size], Here the end index is exclusive"
   ]
  },
  {
   "cell_type": "code",
   "execution_count": 16,
   "id": "fe4ef837",
   "metadata": {},
   "outputs": [
    {
     "data": {
      "text/plain": [
       "'rthick Ragul'"
      ]
     },
     "execution_count": 16,
     "metadata": {},
     "output_type": "execute_result"
    }
   ],
   "source": [
    "name [2:]"
   ]
  },
  {
   "cell_type": "code",
   "execution_count": 17,
   "id": "c610e2fe",
   "metadata": {},
   "outputs": [
    {
     "data": {
      "text/plain": [
       "'Karthick'"
      ]
     },
     "execution_count": 17,
     "metadata": {},
     "output_type": "execute_result"
    }
   ],
   "source": [
    "name [:8]"
   ]
  },
  {
   "cell_type": "markdown",
   "id": "ef973f05",
   "metadata": {},
   "source": [
    "The below script is used to get the complete string "
   ]
  },
  {
   "cell_type": "code",
   "execution_count": 20,
   "id": "802e57e8",
   "metadata": {},
   "outputs": [
    {
     "data": {
      "text/plain": [
       "'Karthick Ragul'"
      ]
     },
     "execution_count": 20,
     "metadata": {},
     "output_type": "execute_result"
    }
   ],
   "source": [
    "name [::1]"
   ]
  },
  {
   "cell_type": "markdown",
   "id": "aeea028f",
   "metadata": {},
   "source": [
    "The below script is used to get the string with step size"
   ]
  },
  {
   "cell_type": "code",
   "execution_count": 19,
   "id": "b4a00661",
   "metadata": {},
   "outputs": [
    {
     "data": {
      "text/plain": [
       "'Krhc au'"
      ]
     },
     "execution_count": 19,
     "metadata": {},
     "output_type": "execute_result"
    }
   ],
   "source": [
    "name [::2]"
   ]
  },
  {
   "cell_type": "markdown",
   "id": "a130f18b",
   "metadata": {},
   "source": [
    "The below script is used to reverse the string "
   ]
  },
  {
   "cell_type": "code",
   "execution_count": 22,
   "id": "25d18b45",
   "metadata": {},
   "outputs": [
    {
     "data": {
      "text/plain": [
       "'lugaR kcihtraK'"
      ]
     },
     "execution_count": 22,
     "metadata": {},
     "output_type": "execute_result"
    }
   ],
   "source": [
    "name [::-1]"
   ]
  },
  {
   "cell_type": "markdown",
   "id": "5a87b3ad",
   "metadata": {},
   "source": [
    "The below script is used to get the string from end with step size as 2"
   ]
  },
  {
   "cell_type": "code",
   "execution_count": 23,
   "id": "44a9d4a4",
   "metadata": {},
   "outputs": [
    {
     "data": {
      "text/plain": [
       "'lgRkita'"
      ]
     },
     "execution_count": 23,
     "metadata": {},
     "output_type": "execute_result"
    }
   ],
   "source": [
    "name [::-2]"
   ]
  }
 ],
 "metadata": {
  "kernelspec": {
   "display_name": "Python 3 (ipykernel)",
   "language": "python",
   "name": "python3"
  },
  "language_info": {
   "codemirror_mode": {
    "name": "ipython",
    "version": 3
   },
   "file_extension": ".py",
   "mimetype": "text/x-python",
   "name": "python",
   "nbconvert_exporter": "python",
   "pygments_lexer": "ipython3",
   "version": "3.9.7"
  }
 },
 "nbformat": 4,
 "nbformat_minor": 5
}
