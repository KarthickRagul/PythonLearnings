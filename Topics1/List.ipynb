{
 "cells": [
  {
   "cell_type": "markdown",
   "id": "2b8bbee0",
   "metadata": {},
   "source": [
    "List is also treated as string but not not exactly, only difference is List can be mutable but string can't be mutable. List supports Indexing and Slicing"
   ]
  },
  {
   "cell_type": "code",
   "execution_count": 22,
   "id": "26263f87",
   "metadata": {},
   "outputs": [],
   "source": [
    "my_list = ['karthick',22,8.3]"
   ]
  },
  {
   "cell_type": "code",
   "execution_count": 23,
   "id": "452dde08",
   "metadata": {},
   "outputs": [
    {
     "data": {
      "text/plain": [
       "['karthick', 22, 8.3]"
      ]
     },
     "execution_count": 23,
     "metadata": {},
     "output_type": "execute_result"
    }
   ],
   "source": [
    "my_list"
   ]
  },
  {
   "cell_type": "code",
   "execution_count": 24,
   "id": "ae342139",
   "metadata": {},
   "outputs": [
    {
     "data": {
      "text/plain": [
       "3"
      ]
     },
     "execution_count": 24,
     "metadata": {},
     "output_type": "execute_result"
    }
   ],
   "source": [
    "len(my_list)   # This len() function is used to find the length of the list"
   ]
  },
  {
   "cell_type": "code",
   "execution_count": 25,
   "id": "c1cc6c6b",
   "metadata": {},
   "outputs": [
    {
     "name": "stdout",
     "output_type": "stream",
     "text": [
      "karthick\n"
     ]
    }
   ],
   "source": [
    "print(my_list[0]) # Indexing Concept\n",
    "\n",
    "#print(my_list[0].title())   # this title() method is used to string in a neat format"
   ]
  },
  {
   "cell_type": "code",
   "execution_count": 26,
   "id": "832cfad0",
   "metadata": {},
   "outputs": [
    {
     "data": {
      "text/plain": [
       "[22, 8.3]"
      ]
     },
     "execution_count": 26,
     "metadata": {},
     "output_type": "execute_result"
    }
   ],
   "source": [
    "my_list[1:]  # Slicing"
   ]
  },
  {
   "cell_type": "code",
   "execution_count": 27,
   "id": "1ea37ec0",
   "metadata": {},
   "outputs": [
    {
     "data": {
      "text/plain": [
       "8.3"
      ]
     },
     "execution_count": 27,
     "metadata": {},
     "output_type": "execute_result"
    }
   ],
   "source": [
    "my_list[-1] # Negative Indexing"
   ]
  },
  {
   "cell_type": "code",
   "execution_count": 28,
   "id": "2880f490",
   "metadata": {},
   "outputs": [
    {
     "data": {
      "text/plain": [
       "[8.3, 22, 'karthick']"
      ]
     },
     "execution_count": 28,
     "metadata": {},
     "output_type": "execute_result"
    }
   ],
   "source": [
    "my_list[::-1]  # Reversing the list"
   ]
  },
  {
   "cell_type": "code",
   "execution_count": 29,
   "id": "a90051fa",
   "metadata": {},
   "outputs": [],
   "source": [
    "my_list.append('Ragul')  # Used to add the element at last"
   ]
  },
  {
   "cell_type": "code",
   "execution_count": 30,
   "id": "31439233",
   "metadata": {},
   "outputs": [
    {
     "data": {
      "text/plain": [
       "['karthick', 22, 8.3, 'Ragul']"
      ]
     },
     "execution_count": 30,
     "metadata": {},
     "output_type": "execute_result"
    }
   ],
   "source": [
    "my_list"
   ]
  },
  {
   "cell_type": "code",
   "execution_count": 32,
   "id": "982a4a6e",
   "metadata": {},
   "outputs": [
    {
     "data": {
      "text/plain": [
       "8.3"
      ]
     },
     "execution_count": 32,
     "metadata": {},
     "output_type": "execute_result"
    }
   ],
   "source": [
    "my_list.pop() # Used to remove the element from the last element, this is will keep removing the last element when we execute it "
   ]
  },
  {
   "cell_type": "code",
   "execution_count": 33,
   "id": "509d71bb",
   "metadata": {},
   "outputs": [],
   "source": [
    "poped_item = my_list.pop()  # This is used to store the poped value into some placeholder"
   ]
  },
  {
   "cell_type": "code",
   "execution_count": 34,
   "id": "db35c039",
   "metadata": {},
   "outputs": [
    {
     "data": {
      "text/plain": [
       "22"
      ]
     },
     "execution_count": 34,
     "metadata": {},
     "output_type": "execute_result"
    }
   ],
   "source": [
    "poped_item"
   ]
  },
  {
   "cell_type": "code",
   "execution_count": 35,
   "id": "9c0aaa5f",
   "metadata": {},
   "outputs": [],
   "source": [
    "new_list =['Python',3.6,2021]"
   ]
  },
  {
   "cell_type": "code",
   "execution_count": 36,
   "id": "04c1f063",
   "metadata": {},
   "outputs": [],
   "source": [
    "result_list = my_list + new_list  # This is used to concatinate the two List's"
   ]
  },
  {
   "cell_type": "code",
   "execution_count": 37,
   "id": "ed0dc88c",
   "metadata": {},
   "outputs": [
    {
     "data": {
      "text/plain": [
       "['karthick', 'Python', 3.6, 2021]"
      ]
     },
     "execution_count": 37,
     "metadata": {},
     "output_type": "execute_result"
    }
   ],
   "source": [
    "result_list"
   ]
  },
  {
   "cell_type": "markdown",
   "id": "9c57b6ed",
   "metadata": {},
   "source": [
    "Example for List mutability"
   ]
  },
  {
   "cell_type": "code",
   "execution_count": 39,
   "id": "73aaad69",
   "metadata": {},
   "outputs": [],
   "source": [
    "result_list[2]=2022 # modifying the value in the index position 6"
   ]
  },
  {
   "cell_type": "code",
   "execution_count": 40,
   "id": "9d1d8df8",
   "metadata": {},
   "outputs": [
    {
     "data": {
      "text/plain": [
       "['karthick', 'Python', 2022, 2021]"
      ]
     },
     "execution_count": 40,
     "metadata": {},
     "output_type": "execute_result"
    }
   ],
   "source": [
    "result_list"
   ]
  },
  {
   "cell_type": "code",
   "execution_count": 44,
   "id": "12b78080",
   "metadata": {},
   "outputs": [
    {
     "data": {
      "text/plain": [
       "2022"
      ]
     },
     "execution_count": 44,
     "metadata": {},
     "output_type": "execute_result"
    }
   ],
   "source": [
    "result_list.pop()"
   ]
  },
  {
   "cell_type": "code",
   "execution_count": 45,
   "id": "959b50ce",
   "metadata": {},
   "outputs": [],
   "source": [
    "result_list.sort()   # This is used to sort the list, but it won't return any value"
   ]
  },
  {
   "cell_type": "code",
   "execution_count": 46,
   "id": "1d1cc691",
   "metadata": {},
   "outputs": [
    {
     "data": {
      "text/plain": [
       "['Python', 'karthick']"
      ]
     },
     "execution_count": 46,
     "metadata": {},
     "output_type": "execute_result"
    }
   ],
   "source": [
    "result_list   # To see whether it is sorted or not, we need to print that and see the result"
   ]
  },
  {
   "cell_type": "code",
   "execution_count": 47,
   "id": "cbe5e11d",
   "metadata": {},
   "outputs": [],
   "source": [
    "result_list.reverse() # This is used to reverse the list, but it won't return any value"
   ]
  },
  {
   "cell_type": "code",
   "execution_count": 48,
   "id": "4b441456",
   "metadata": {},
   "outputs": [
    {
     "data": {
      "text/plain": [
       "['karthick', 'Python']"
      ]
     },
     "execution_count": 48,
     "metadata": {},
     "output_type": "execute_result"
    }
   ],
   "source": [
    "result_list   # To see whether it is reversed or not, we need to print that and see the result"
   ]
  },
  {
   "cell_type": "code",
   "execution_count": 49,
   "id": "62c4da22",
   "metadata": {},
   "outputs": [],
   "source": [
    "rev_result = result_list.reverse()"
   ]
  },
  {
   "cell_type": "code",
   "execution_count": 50,
   "id": "a27cb087",
   "metadata": {},
   "outputs": [],
   "source": [
    "rev_result    # It will not return anything, bcoz it's type is NoneType. NoneType is just a place holder"
   ]
  },
  {
   "cell_type": "code",
   "execution_count": 51,
   "id": "3f73aa9b",
   "metadata": {},
   "outputs": [
    {
     "data": {
      "text/plain": [
       "NoneType"
      ]
     },
     "execution_count": 51,
     "metadata": {},
     "output_type": "execute_result"
    }
   ],
   "source": [
    "type(rev_result)"
   ]
  },
  {
   "cell_type": "markdown",
   "id": "7c7bdab6",
   "metadata": {},
   "source": [
    "Note : Common default return type is None, People use it for place holder"
   ]
  },
  {
   "cell_type": "markdown",
   "id": "ff67b3a0",
   "metadata": {},
   "source": [
    "To Overcome this problem, we can use the below code"
   ]
  },
  {
   "cell_type": "code",
   "execution_count": 52,
   "id": "aa3b3d89",
   "metadata": {},
   "outputs": [],
   "source": [
    "result_list.reverse()"
   ]
  },
  {
   "cell_type": "code",
   "execution_count": 53,
   "id": "d525bc28",
   "metadata": {},
   "outputs": [],
   "source": [
    "rev_result = result_list     # Here u r assigning the reversed list values"
   ]
  },
  {
   "cell_type": "code",
   "execution_count": 54,
   "id": "fcbb57d3",
   "metadata": {},
   "outputs": [],
   "source": [
    "rev_result.append('age')"
   ]
  },
  {
   "cell_type": "code",
   "execution_count": 55,
   "id": "9a59726b",
   "metadata": {},
   "outputs": [],
   "source": [
    "rev_result[0]='python'"
   ]
  },
  {
   "cell_type": "code",
   "execution_count": 56,
   "id": "507648e5",
   "metadata": {},
   "outputs": [],
   "source": [
    "rev_result.sort()"
   ]
  },
  {
   "cell_type": "code",
   "execution_count": 57,
   "id": "435954cb",
   "metadata": {},
   "outputs": [],
   "source": [
    "sorted_result = rev_result"
   ]
  },
  {
   "cell_type": "code",
   "execution_count": 58,
   "id": "92068a36",
   "metadata": {},
   "outputs": [
    {
     "data": {
      "text/plain": [
       "['Python', 'age', 'python']"
      ]
     },
     "execution_count": 58,
     "metadata": {},
     "output_type": "execute_result"
    }
   ],
   "source": [
    "sorted_result       # Here u can see the sorted list Note : Sorting will be done by Capital letters and then Small letters"
   ]
  },
  {
   "cell_type": "code",
   "execution_count": 59,
   "id": "49b0ecd9",
   "metadata": {},
   "outputs": [],
   "source": [
    "sorted_result.reverse()   # This function is used to Reverse the list"
   ]
  },
  {
   "cell_type": "code",
   "execution_count": 60,
   "id": "72c474e2",
   "metadata": {},
   "outputs": [
    {
     "data": {
      "text/plain": [
       "['python', 'age', 'Python']"
      ]
     },
     "execution_count": 60,
     "metadata": {},
     "output_type": "execute_result"
    }
   ],
   "source": [
    "sorted_result"
   ]
  },
  {
   "cell_type": "code",
   "execution_count": 94,
   "id": "12bedd7c",
   "metadata": {},
   "outputs": [],
   "source": [
    "list=['G','R','E','A','T'] "
   ]
  },
  {
   "cell_type": "code",
   "execution_count": 95,
   "id": "fe588d6e",
   "metadata": {},
   "outputs": [
    {
     "name": "stdout",
     "output_type": "stream",
     "text": [
      "['G', 'R', 'E', 'A', 'T']\n"
     ]
    }
   ],
   "source": [
    "print(list)"
   ]
  },
  {
   "cell_type": "code",
   "execution_count": 96,
   "id": "6da1fe41",
   "metadata": {},
   "outputs": [],
   "source": [
    "del list[0]  # del statement also used to remove the element from the list"
   ]
  },
  {
   "cell_type": "code",
   "execution_count": 97,
   "id": "ff186c18",
   "metadata": {},
   "outputs": [
    {
     "data": {
      "text/plain": [
       "['R', 'E', 'A', 'T']"
      ]
     },
     "execution_count": 97,
     "metadata": {},
     "output_type": "execute_result"
    }
   ],
   "source": [
    "list"
   ]
  },
  {
   "cell_type": "code",
   "execution_count": 98,
   "id": "aabbbdaa",
   "metadata": {},
   "outputs": [
    {
     "data": {
      "text/plain": [
       "'E'"
      ]
     },
     "execution_count": 98,
     "metadata": {},
     "output_type": "execute_result"
    }
   ],
   "source": [
    "list.pop(1)"
   ]
  },
  {
   "cell_type": "code",
   "execution_count": 99,
   "id": "b1d86ecf",
   "metadata": {},
   "outputs": [
    {
     "data": {
      "text/plain": [
       "['R', 'A', 'T']"
      ]
     },
     "execution_count": 99,
     "metadata": {},
     "output_type": "execute_result"
    }
   ],
   "source": [
    "list"
   ]
  },
  {
   "cell_type": "code",
   "execution_count": 100,
   "id": "b3059926",
   "metadata": {},
   "outputs": [],
   "source": [
    "list.remove('R')  # remove also used to remove the element from  the list"
   ]
  },
  {
   "cell_type": "code",
   "execution_count": 101,
   "id": "ee4564ff",
   "metadata": {},
   "outputs": [],
   "source": [
    "list.append('R')   # used to add an element"
   ]
  },
  {
   "cell_type": "code",
   "execution_count": 103,
   "id": "796e9563",
   "metadata": {},
   "outputs": [],
   "source": [
    "list.sort(reverse=True)"
   ]
  },
  {
   "cell_type": "code",
   "execution_count": 104,
   "id": "200bdd75",
   "metadata": {},
   "outputs": [
    {
     "data": {
      "text/plain": [
       "['T', 'R', 'A']"
      ]
     },
     "execution_count": 104,
     "metadata": {},
     "output_type": "execute_result"
    }
   ],
   "source": [
    "list"
   ]
  },
  {
   "cell_type": "code",
   "execution_count": 110,
   "id": "5c83ab73",
   "metadata": {},
   "outputs": [
    {
     "name": "stdout",
     "output_type": "stream",
     "text": [
      "['E', 'H', 'L']\n"
     ]
    }
   ],
   "source": [
    "print(sorted(list))  # this will not change the original order of the list"
   ]
  },
  {
   "cell_type": "code",
   "execution_count": 112,
   "id": "85ee667a",
   "metadata": {},
   "outputs": [
    {
     "name": "stdout",
     "output_type": "stream",
     "text": [
      "['H', 'E', 'L']\n"
     ]
    }
   ],
   "source": [
    "print(list)   # Here is u can see that the original order has not changed"
   ]
  },
  {
   "cell_type": "code",
   "execution_count": 113,
   "id": "96236a44",
   "metadata": {},
   "outputs": [],
   "source": [
    "list.reverse()"
   ]
  },
  {
   "cell_type": "code",
   "execution_count": 114,
   "id": "b907ffc5",
   "metadata": {},
   "outputs": [
    {
     "data": {
      "text/plain": [
       "['L', 'E', 'H']"
      ]
     },
     "execution_count": 114,
     "metadata": {},
     "output_type": "execute_result"
    }
   ],
   "source": [
    "list"
   ]
  },
  {
   "cell_type": "code",
   "execution_count": 117,
   "id": "5ed934f2",
   "metadata": {},
   "outputs": [
    {
     "name": "stdout",
     "output_type": "stream",
     "text": [
      "None\n"
     ]
    }
   ],
   "source": [
    "print(list.sort(reverse=True))"
   ]
  },
  {
   "cell_type": "code",
   "execution_count": 118,
   "id": "a4101c46",
   "metadata": {},
   "outputs": [
    {
     "data": {
      "text/plain": [
       "['L', 'H', 'E']"
      ]
     },
     "execution_count": 118,
     "metadata": {},
     "output_type": "execute_result"
    }
   ],
   "source": [
    "list"
   ]
  },
  {
   "cell_type": "code",
   "execution_count": 119,
   "id": "f8e2665d",
   "metadata": {},
   "outputs": [
    {
     "name": "stdout",
     "output_type": "stream",
     "text": [
      "3\n"
     ]
    }
   ],
   "source": [
    "print(len(list))"
   ]
  },
  {
   "cell_type": "code",
   "execution_count": null,
   "id": "47be3efe",
   "metadata": {},
   "outputs": [],
   "source": []
  }
 ],
 "metadata": {
  "kernelspec": {
   "display_name": "Python 3 (ipykernel)",
   "language": "python",
   "name": "python3"
  },
  "language_info": {
   "codemirror_mode": {
    "name": "ipython",
    "version": 3
   },
   "file_extension": ".py",
   "mimetype": "text/x-python",
   "name": "python",
   "nbconvert_exporter": "python",
   "pygments_lexer": "ipython3",
   "version": "3.9.7"
  }
 },
 "nbformat": 4,
 "nbformat_minor": 5
}
