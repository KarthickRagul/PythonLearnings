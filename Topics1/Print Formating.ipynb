{
 "cells": [
  {
   "cell_type": "markdown",
   "id": "872fe6ca",
   "metadata": {},
   "source": [
    "Formatting with the .format() method, Refer the Example"
   ]
  },
  {
   "cell_type": "code",
   "execution_count": 1,
   "id": "279ee440",
   "metadata": {},
   "outputs": [
    {
     "name": "stdout",
     "output_type": "stream",
     "text": [
      "Python is awesome\n"
     ]
    }
   ],
   "source": [
    "print('Python {} {}'.format('is', 'awesome'))  # Here {} brackets will be filled by string the mentioned in the format function"
   ]
  },
  {
   "cell_type": "markdown",
   "id": "db88243a",
   "metadata": {},
   "source": [
    ".format() function works based on the indexing and keyword concept"
   ]
  },
  {
   "cell_type": "code",
   "execution_count": 2,
   "id": "d1e3da22",
   "metadata": {},
   "outputs": [
    {
     "name": "stdout",
     "output_type": "stream",
     "text": [
      "Python is cool\n"
     ]
    }
   ],
   "source": [
    "print('Python {i} {c}'.format(i='is',c='cool'))   # we can use some keywords references in the .format()"
   ]
  },
  {
   "cell_type": "code",
   "execution_count": 3,
   "id": "d8d6a691",
   "metadata": {},
   "outputs": [
    {
     "name": "stdout",
     "output_type": "stream",
     "text": [
      "Python cool is\n"
     ]
    }
   ],
   "source": [
    "print('Python {c} {i}'.format(i='is',c='cool'))  # We can change the order by assigning the keyword"
   ]
  },
  {
   "cell_type": "code",
   "execution_count": 4,
   "id": "55e69bc9",
   "metadata": {},
   "outputs": [
    {
     "name": "stdout",
     "output_type": "stream",
     "text": [
      "Python is is\n"
     ]
    }
   ],
   "source": [
    "print('Python {0} {0}'.format('is','cool'))   # Assigning the same values for the mentioned index"
   ]
  },
  {
   "cell_type": "code",
   "execution_count": 5,
   "id": "0b3d4a01",
   "metadata": {},
   "outputs": [],
   "source": [
    "value = 100/24"
   ]
  },
  {
   "cell_type": "code",
   "execution_count": 6,
   "id": "6e9fc72d",
   "metadata": {},
   "outputs": [
    {
     "data": {
      "text/plain": [
       "4.166666666666667"
      ]
     },
     "execution_count": 6,
     "metadata": {},
     "output_type": "execute_result"
    }
   ],
   "source": [
    "value"
   ]
  },
  {
   "cell_type": "code",
   "execution_count": 7,
   "id": "70613dbb",
   "metadata": {},
   "outputs": [
    {
     "name": "stdout",
     "output_type": "stream",
     "text": [
      "The result is 4.166666666666667\n"
     ]
    }
   ],
   "source": [
    "print('The result is {v}'.format(v=value)) # Here we are assigning the value to 'v' keyword and printing it"
   ]
  },
  {
   "cell_type": "markdown",
   "id": "4e0cad73",
   "metadata": {},
   "source": [
    "Float format follows \"{value : width.precisionf}\""
   ]
  },
  {
   "cell_type": "code",
   "execution_count": 8,
   "id": "ab01c411",
   "metadata": {},
   "outputs": [
    {
     "name": "stdout",
     "output_type": "stream",
     "text": [
      "The result is 4.167\n"
     ]
    }
   ],
   "source": [
    "print('The result is {v:1.3f}'.format(v=value))\n",
    "\n",
    "# Here we have given the precision value as 3 so, it is printing 3 values after .\n",
    "# Here can play with width and precision to see the changes"
   ]
  },
  {
   "cell_type": "markdown",
   "id": "2f3bc3fd",
   "metadata": {},
   "source": [
    "We can use the f string method to replace the .format()"
   ]
  },
  {
   "cell_type": "code",
   "execution_count": 12,
   "id": "6afa5937",
   "metadata": {},
   "outputs": [],
   "source": [
    "name = \"python\""
   ]
  },
  {
   "cell_type": "code",
   "execution_count": 20,
   "id": "9549213c",
   "metadata": {},
   "outputs": [
    {
     "name": "stdout",
     "output_type": "stream",
     "text": [
      "This is a cool feature in python\n"
     ]
    }
   ],
   "source": [
    "print(f\"This is a cool feature in {name}\")  # This f string method is introduced in python 3.6"
   ]
  },
  {
   "cell_type": "markdown",
   "id": "3c97d4bb",
   "metadata": {},
   "source": [
    "For more example please refer the course notebook"
   ]
  },
  {
   "cell_type": "code",
   "execution_count": 18,
   "id": "f953b1d6",
   "metadata": {},
   "outputs": [
    {
     "data": {
      "text/plain": [
       "'test      '"
      ]
     },
     "execution_count": 18,
     "metadata": {},
     "output_type": "execute_result"
    }
   ],
   "source": [
    "'%-10s' % ('test')"
   ]
  },
  {
   "cell_type": "markdown",
   "id": "4a91e1f0",
   "metadata": {},
   "source": [
    "Refer this site for more : https://pyformat.info/"
   ]
  }
 ],
 "metadata": {
  "kernelspec": {
   "display_name": "Python 3 (ipykernel)",
   "language": "python",
   "name": "python3"
  },
  "language_info": {
   "codemirror_mode": {
    "name": "ipython",
    "version": 3
   },
   "file_extension": ".py",
   "mimetype": "text/x-python",
   "name": "python",
   "nbconvert_exporter": "python",
   "pygments_lexer": "ipython3",
   "version": "3.9.7"
  }
 },
 "nbformat": 4,
 "nbformat_minor": 5
}
