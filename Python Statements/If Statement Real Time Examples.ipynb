{
 "cells": [
  {
   "cell_type": "code",
   "execution_count": 12,
   "id": "176ad21c",
   "metadata": {},
   "outputs": [
    {
     "name": "stdout",
     "output_type": "stream",
     "text": [
      "player earned 5 points\n"
     ]
    }
   ],
   "source": [
    "# Example 1\n",
    "alien_color = 'green'\n",
    "if alien_color == 'green':   # Case1\n",
    "    print(\"player earned 5 points\")\n",
    "if alien_color == 'red':    # case 2\n",
    "    print()"
   ]
  },
  {
   "cell_type": "code",
   "execution_count": 18,
   "id": "23f210c3",
   "metadata": {},
   "outputs": [
    {
     "name": "stdout",
     "output_type": "stream",
     "text": [
      "player earned 5 points\n"
     ]
    }
   ],
   "source": [
    "# Example 2\n",
    "alien_color = 'green'\n",
    "if alien_color == 'green':   # Case1\n",
    "    print(\"player earned 5 points\")\n",
    "else :    # case 2\n",
    "    print(\"player earned 10 points\")"
   ]
  },
  {
   "cell_type": "code",
   "execution_count": 21,
   "id": "96762952",
   "metadata": {},
   "outputs": [
    {
     "name": "stdout",
     "output_type": "stream",
     "text": [
      "player earned 10 points\n"
     ]
    }
   ],
   "source": [
    "# Example 3\n",
    "alien_color = 'yellow'\n",
    "if alien_color == 'green':   # Case1\n",
    "    print(\"player earned 5 points\")\n",
    "elif alien_color == 'yellow':    # case 2\n",
    "    print(\"player earned 10 points\")\n",
    "elif alien_color == 'red':    # case 2\n",
    "    print(\"player earned 15 points\")"
   ]
  },
  {
   "cell_type": "code",
   "execution_count": 31,
   "id": "14bf508a",
   "metadata": {},
   "outputs": [
    {
     "name": "stdout",
     "output_type": "stream",
     "text": [
      "The person is elder\n"
     ]
    }
   ],
   "source": [
    "# Example 4\n",
    "\n",
    "person_age = 77\n",
    "\n",
    "if person_age < 2 :\n",
    "    print(\"The person is baby\")\n",
    "elif person_age >= 2 and person_age < 4:\n",
    "    print(\"The person is toddler\")\n",
    "elif person_age >= 4 and person_age < 13:\n",
    "    print(\"The person is kid\")\n",
    "elif person_age >= 13 and person_age < 20:\n",
    "    print(\"The person is teenager\")\n",
    "elif person_age >= 20 and person_age < 65:\n",
    "    print(\"The person is adult\")\n",
    "elif person_age >=65 :\n",
    "    print(\"The person is elder\")"
   ]
  },
  {
   "cell_type": "code",
   "execution_count": 35,
   "id": "0efc2cf7",
   "metadata": {},
   "outputs": [
    {
     "name": "stdout",
     "output_type": "stream",
     "text": [
      "I really like apple\n",
      "I really like orange\n",
      "I really like grapes\n",
      "I really like watermelon\n",
      "I really like banana\n"
     ]
    }
   ],
   "source": [
    "# Example 5\n",
    "\n",
    "my_fav_fruits = ['apple', 'orange', 'grapes', 'watermelon','banana']\n",
    "\n",
    "if 'apple' in my_fav_fruits :\n",
    "    print(\"I really like apple\")\n",
    "if 'orange' in my_fav_fruits :\n",
    "    print(\"I really like orange\")\n",
    "if 'grapes' in my_fav_fruits :\n",
    "    print(\"I really like grapes\")\n",
    "if 'watermelon' in my_fav_fruits :\n",
    "    print(\"I really like watermelon\")\n",
    "if 'banana' in my_fav_fruits :\n",
    "    print(\"I really like banana\")"
   ]
  },
  {
   "cell_type": "code",
   "execution_count": 37,
   "id": "6ef44d89",
   "metadata": {},
   "outputs": [
    {
     "name": "stdout",
     "output_type": "stream",
     "text": [
      "Adding mushrooms.\n",
      "Sorry, we are out of green peppers right now.\n",
      "Adding extra cheese.\n",
      "\n",
      "Finished making your pizza!\n"
     ]
    }
   ],
   "source": [
    "# If statement with Lists\n",
    "# Dealing with the special items\n",
    "requested_toppings = ['mushrooms', 'green peppers', 'extra cheese']\n",
    "for requested_topping in requested_toppings:\n",
    "    if requested_topping == 'green peppers':\n",
    "        print(\"Sorry, we are out of green peppers right now.\")\n",
    "    else:\n",
    "        print(\"Adding \" + requested_topping + \".\")\n",
    "print(\"\\nFinished making your pizza!\")"
   ]
  },
  {
   "cell_type": "code",
   "execution_count": 40,
   "id": "e969a680",
   "metadata": {},
   "outputs": [
    {
     "name": "stdout",
     "output_type": "stream",
     "text": [
      "Adding veg.\n",
      "\n",
      "Finished making your pizza!\n"
     ]
    }
   ],
   "source": [
    "# Checking if the list is not empty *****8\n",
    "requested_toppings = []\n",
    "if requested_toppings:\n",
    "    for requested_topping in requested_toppings:\n",
    "        print(\"Adding \" + requested_topping + \".\")\n",
    "    print(\"\\nFinished making your pizza!\")\n",
    "else:\n",
    "    print(\"Are you sure you want a plain pizza?\")"
   ]
  },
  {
   "cell_type": "code",
   "execution_count": 44,
   "id": "21d98e6d",
   "metadata": {},
   "outputs": [
    {
     "name": "stdout",
     "output_type": "stream",
     "text": [
      "Adding mushrooms.\n",
      "Sorry, we don't have french fries.\n",
      "Adding extra cheese.\n",
      "\n",
      "Finished making your pizza!\n"
     ]
    }
   ],
   "source": [
    "# Using multiple lists\n",
    "\n",
    "available_toppings = ['mushrooms', 'olives', 'green peppers', 'pepperoni', 'pineapple', 'extra cheese']\n",
    "requested_toppings = ['mushrooms', 'french fries', 'extra cheese']\n",
    "for requested_topping in requested_toppings:\n",
    "    if requested_topping in available_toppings:\n",
    "        print(\"Adding \" + requested_topping + \".\")\n",
    "    else:\n",
    "        print(\"Sorry, we don't have \" + requested_topping + \".\")\n",
    "print(\"\\nFinished making your pizza!\")"
   ]
  },
  {
   "cell_type": "code",
   "execution_count": 47,
   "id": "e44ec134",
   "metadata": {},
   "outputs": [
    {
     "name": "stdout",
     "output_type": "stream",
     "text": [
      "Hello admin Do u want status report?....\n",
      "Hi Karthick,\n",
      " You are Welcome\n",
      "Hi Praveen,\n",
      " You are Welcome\n",
      "Hi Bala,\n",
      " You are Welcome\n"
     ]
    }
   ],
   "source": [
    "# Example 6\n",
    "\n",
    "usernames = ['admin','Karthick','Praveen','Bala']\n",
    "\n",
    "for name in usernames:\n",
    "    if name == 'admin':\n",
    "        print(\"Hello \"+name+\" Do u want status report?....\")\n",
    "    else:\n",
    "        print(\"Hi \"+name+\",\\n You are Welcome\")"
   ]
  },
  {
   "cell_type": "code",
   "execution_count": 74,
   "id": "809f87da",
   "metadata": {},
   "outputs": [
    {
     "name": "stdout",
     "output_type": "stream",
     "text": [
      "[]\n"
     ]
    }
   ],
   "source": [
    "#Example 7\n",
    "\n",
    "usernames = ['admin','Karthick','Praveen','Bala']\n",
    "\n",
    "if usernames:\n",
    "    for name in range(len(usernames)):\n",
    "        usernames.pop()\n",
    "else:\n",
    "    print(\"We need some users...!\")\n",
    "print(usernames)"
   ]
  },
  {
   "cell_type": "code",
   "execution_count": 80,
   "id": "da09c31e",
   "metadata": {},
   "outputs": [
    {
     "name": "stdout",
     "output_type": "stream",
     "text": [
      "Bala This username already exists, please enter new user name\n",
      "ragu This username is available\n",
      "Ragul This username already exists, please enter new user name\n",
      "KARTHICK This username already exists, please enter new user name\n"
     ]
    }
   ],
   "source": [
    "# Example 8\n",
    "\n",
    "current_users = ['karthick','ragul','bala','praveen','hari']\n",
    "\n",
    "new_users = ['Bala','ragu','Ragul','KARTHICK']\n",
    "\n",
    "for name in new_users:\n",
    "    if name.lower() in current_users:\n",
    "        print(name + \" This username already exists, please enter new user name\")\n",
    "    else:\n",
    "        print(name + \" This username is available\")"
   ]
  },
  {
   "cell_type": "code",
   "execution_count": null,
   "id": "c0105949",
   "metadata": {},
   "outputs": [],
   "source": []
  }
 ],
 "metadata": {
  "kernelspec": {
   "display_name": "Python 3 (ipykernel)",
   "language": "python",
   "name": "python3"
  },
  "language_info": {
   "codemirror_mode": {
    "name": "ipython",
    "version": 3
   },
   "file_extension": ".py",
   "mimetype": "text/x-python",
   "name": "python",
   "nbconvert_exporter": "python",
   "pygments_lexer": "ipython3",
   "version": "3.9.7"
  }
 },
 "nbformat": 4,
 "nbformat_minor": 5
}
