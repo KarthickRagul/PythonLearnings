{
 "cells": [
  {
   "cell_type": "markdown",
   "id": "4ea8b711",
   "metadata": {},
   "source": [
    "Examples for IF, ELIF, ELSE statements: Here \":\" and Indentations are very much important"
   ]
  },
  {
   "cell_type": "code",
   "execution_count": 2,
   "id": "320e61a3",
   "metadata": {},
   "outputs": [
    {
     "name": "stdout",
     "output_type": "stream",
     "text": [
      "Welcome, Karthick!\n"
     ]
    }
   ],
   "source": [
    "name = \"Karthick\"\n",
    "\n",
    "if name == 'Karthick':      # ':' is important \n",
    "    print(\"Welcome, Karthick!\")\n",
    "elif name == 'Ragul':\n",
    "    print(\"Welcome, Ragul!\")  # Indentation is also important \n",
    "else :\n",
    "    print(\"Who are you?\")"
   ]
  },
  {
   "cell_type": "markdown",
   "id": "18217e69",
   "metadata": {},
   "source": [
    "Examples of FOR LOOP in python : Looping is used for iteration of objects"
   ]
  },
  {
   "cell_type": "code",
   "execution_count": 14,
   "id": "d18ed364",
   "metadata": {},
   "outputs": [
    {
     "name": "stdout",
     "output_type": "stream",
     "text": [
      "Karthick\n",
      "Ragul\n",
      "22\n",
      "100\n",
      "99.0\n",
      "Engineer\n"
     ]
    }
   ],
   "source": [
    "mylist=['Karthick','Ragul',22,100,99.0,\"Engineer\"]\n",
    "\n",
    "for items in mylist:\n",
    "    print(items)"
   ]
  },
  {
   "cell_type": "code",
   "execution_count": 18,
   "id": "29195dbb",
   "metadata": {},
   "outputs": [
    {
     "name": "stdout",
     "output_type": "stream",
     "text": [
      "Strings : Karthick\n",
      "Strings : Ragul\n",
      "Intergers : 22\n",
      "Intergers : 100\n",
      "99.0 - This is float type\n",
      "Strings : Engineer\n"
     ]
    }
   ],
   "source": [
    "for items in mylist:                 # This is an Example for control flow\n",
    "    if(type(items) == str):\n",
    "        print(f'Strings : {items}')\n",
    "    elif(type(items)==int):\n",
    "        print(f'Intergers : {items}')     # This one type of print format\n",
    "    else :\n",
    "        print(str(items) + \" - This is float type\")"
   ]
  },
  {
   "cell_type": "code",
   "execution_count": 22,
   "id": "4ac3fc37",
   "metadata": {},
   "outputs": [
    {
     "name": "stdout",
     "output_type": "stream",
     "text": [
      "1\n",
      "3\n",
      "6\n",
      "10\n",
      "15\n",
      "21\n",
      "This is total 21\n"
     ]
    }
   ],
   "source": [
    "num_list =[1,2,3,4,5,6]\n",
    "list_sum = 0\n",
    "for num in num_list:\n",
    "    list_sum = list_sum + num\n",
    "    print(list_sum)            # This print statement will print the each and every iteration results\n",
    "                                # These 2 types of print statements clearly tells the importance of indendations in python\n",
    "print(\"This is total\", list_sum)    # This print statement will print the final result stored in the list_sum variable"
   ]
  },
  {
   "cell_type": "markdown",
   "id": "1a34a970",
   "metadata": {},
   "source": [
    "Examples of String iterations :"
   ]
  },
  {
   "cell_type": "code",
   "execution_count": 25,
   "id": "6fda95cf",
   "metadata": {},
   "outputs": [
    {
     "name": "stdout",
     "output_type": "stream",
     "text": [
      "H\n",
      "e\n",
      "l\n",
      "l\n",
      "l\n",
      "o\n",
      "o\n",
      "o\n",
      "o\n",
      "!\n",
      " \n",
      "C\n",
      "h\n",
      "a\n",
      "r\n",
      "a\n",
      "c\n",
      "t\n",
      "e\n",
      "r\n"
     ]
    }
   ],
   "source": [
    "my_string = 'Hellloooo! '\n",
    "\n",
    "for char in my_string:   # Example 1\n",
    "    print(char)\n",
    "    \n",
    "for char in 'Character':  # Example 2 without assigning value in variables\n",
    "    print(char)  "
   ]
  },
  {
   "cell_type": "code",
   "execution_count": 26,
   "id": "574fbddc",
   "metadata": {},
   "outputs": [
    {
     "name": "stdout",
     "output_type": "stream",
     "text": [
      "1\n",
      "2\n",
      "3\n",
      "4\n",
      "5\n"
     ]
    }
   ],
   "source": [
    "my_tuple = (1,2,3,4,5)\n",
    "\n",
    "for num in my_tuple:\n",
    "    print(num)"
   ]
  },
  {
   "cell_type": "code",
   "execution_count": 28,
   "id": "538a546a",
   "metadata": {},
   "outputs": [
    {
     "name": "stdout",
     "output_type": "stream",
     "text": [
      "(1, 2, 3)\n",
      "(4, 5, 6)\n",
      "(7, 8, 9)\n",
      "1\n",
      "2\n",
      "3\n",
      "4\n",
      "5\n",
      "6\n",
      "7\n",
      "8\n",
      "9\n"
     ]
    }
   ],
   "source": [
    "my_list=[(1,2,3),(4,5,6),(7,8,9)]   \n",
    "\n",
    "for item in my_list:\n",
    "    print(item)\n",
    "\n",
    "for a,b,c in my_list:                # This is known as \"Tuple unpacking\"\n",
    "    print(a)      \n",
    "    print(b)\n",
    "    print(c)"
   ]
  },
  {
   "cell_type": "code",
   "execution_count": 40,
   "id": "308e3714",
   "metadata": {},
   "outputs": [
    {
     "name": "stdout",
     "output_type": "stream",
     "text": [
      "This will result Keys\n",
      "k1\n",
      "k2\n",
      "k3\n",
      "k4\n",
      "This will results items\n",
      "('k1', 'Karthick')\n",
      "('k2', 'Ragul')\n",
      "('k3', 22)\n",
      "('k4', 99.9)\n",
      "This will results values\n",
      "Karthick\n",
      "Ragul\n",
      "22\n",
      "99.9\n",
      "This will results items with the help of tuple unpacking concept\n",
      "Keys :  k1\n",
      "Values :  Karthick\n",
      "Keys :  k2\n",
      "Values :  Ragul\n",
      "Keys :  k3\n",
      "Values :  22\n",
      "Keys :  k4\n",
      "Values :  99.9\n"
     ]
    }
   ],
   "source": [
    "dictionary = {'k1':'Karthick','k2':'Ragul','k3':22,'k4':99.9}\n",
    "\n",
    "print(\"This will result Keys\")\n",
    "for items in dictionary:           # This will iterate thru keys only\n",
    "    print(items)\n",
    "    \n",
    "print(\"This will results items\")    \n",
    "for items in dictionary.items():   # This will print the key value pairs, With the help of \"dictionary.items()\"\n",
    "    print(items)\n",
    "    \n",
    "print(\"This will results values\")    \n",
    "for value in dictionary.values():\n",
    "    print(value)\n",
    "    \n",
    "print(\"This will results items with the help of tuple unpacking concept\")    \n",
    "for key,value in dictionary.items():  # We can use the tuple unpacking \n",
    "    print(\"Keys : \",key)\n",
    "    print(\"Values : \",value)"
   ]
  },
  {
   "cell_type": "markdown",
   "id": "ddc5040e",
   "metadata": {},
   "source": [
    "Examples of WHILE LOOP in python"
   ]
  },
  {
   "cell_type": "code",
   "execution_count": 43,
   "id": "963446db",
   "metadata": {},
   "outputs": [
    {
     "name": "stdout",
     "output_type": "stream",
     "text": [
      "0 is Less than 7\n",
      "1 is Less than 7\n",
      "2 is Less than 7\n",
      "3 is Less than 7\n",
      "4 is Less than 7\n",
      "5 is Less than 7\n",
      "6 is Less than 7\n"
     ]
    }
   ],
   "source": [
    "x = 0\n",
    "\n",
    "while x < 7:\n",
    "    print(x,\"is Less than 7\")    # If we didn't put increment here it will do the infinite loop\n",
    "    x+=1\n",
    "    "
   ]
  },
  {
   "cell_type": "markdown",
   "id": "71caafa7",
   "metadata": {},
   "source": [
    "Break, Continue, Pass Statements:"
   ]
  },
  {
   "cell_type": "markdown",
   "id": "3e120693",
   "metadata": {},
   "source": [
    "Break : Breaks out of the current closest enclosing loop\n",
    "\n",
    "Continue : Goes to the top of the closest enclosing loop \n",
    "\n",
    "Pass : Does nothing at all (This is like a place holder)"
   ]
  },
  {
   "cell_type": "code",
   "execution_count": 51,
   "id": "b3437286",
   "metadata": {},
   "outputs": [
    {
     "name": "stdout",
     "output_type": "stream",
     "text": [
      "1\n",
      "2\n",
      "3\n",
      "4\n"
     ]
    }
   ],
   "source": [
    "x = [1,2,3,4,5,6]\n",
    "\n",
    "for item in x:       # This is example of break\n",
    "    print(item)\n",
    "    if(item == 4):   # Breaks the loop if the condtion statisfies\n",
    "        break;"
   ]
  },
  {
   "cell_type": "code",
   "execution_count": 50,
   "id": "263a4c0e",
   "metadata": {},
   "outputs": [
    {
     "name": "stdout",
     "output_type": "stream",
     "text": [
      "1\n",
      "2\n",
      "4\n",
      "5\n"
     ]
    }
   ],
   "source": [
    "y=0\n",
    "while y < 5:      # This is example of continue \n",
    "    y+=1\n",
    "    if(y==3):     # Skips the iteration if the condition statisfies\n",
    "        continue\n",
    "    print(y) "
   ]
  },
  {
   "cell_type": "code",
   "execution_count": 52,
   "id": "af1a6186",
   "metadata": {},
   "outputs": [
    {
     "name": "stdout",
     "output_type": "stream",
     "text": [
      "1\n",
      "2\n",
      "3\n",
      "4\n",
      "5\n",
      "6\n"
     ]
    }
   ],
   "source": [
    "for item in x:\n",
    "    # statement \n",
    "    pass           # Here pass is used to avoid the syntax error, try without pass and with pass to see the difference\n",
    "    print(item)"
   ]
  },
  {
   "cell_type": "markdown",
   "id": "f208f9f9",
   "metadata": {},
   "source": [
    "Useful Operators in Python : range(),enumerate(),zip()"
   ]
  },
  {
   "cell_type": "code",
   "execution_count": 53,
   "id": "7e63c83a",
   "metadata": {},
   "outputs": [
    {
     "name": "stdout",
     "output_type": "stream",
     "text": [
      "0\n",
      "1\n",
      "2\n",
      "3\n",
      "4\n",
      "5\n"
     ]
    }
   ],
   "source": [
    "# range() function    - Syntax range(start_index,end_index,step_size)\n",
    "\n",
    "for num in range(0,6):     # This will print values from 0 to 5(6 is exclusive)\n",
    "    print(num)"
   ]
  },
  {
   "cell_type": "code",
   "execution_count": 55,
   "id": "6768716d",
   "metadata": {},
   "outputs": [
    {
     "name": "stdout",
     "output_type": "stream",
     "text": [
      "0\n",
      "2\n",
      "4\n",
      "6\n"
     ]
    }
   ],
   "source": [
    "# range() function    - Syntax range(start_index,end_index,step_size)\n",
    "\n",
    "for num in range(0,7,2):     # This will print values from 0 to 7 with the step_size as 2 (Here 7 is exclusive)\n",
    "    print(num)"
   ]
  },
  {
   "cell_type": "code",
   "execution_count": 62,
   "id": "edd2dbf1",
   "metadata": {},
   "outputs": [
    {
     "name": "stdout",
     "output_type": "stream",
     "text": [
      "range(2, 10)\n",
      "<class 'range'>\n",
      "[2, 4, 6, 8]\n"
     ]
    }
   ],
   "source": [
    "print(range(2,10))      \n",
    "print(type(range(2,10)))    # Type of range()\n",
    "print(list(range(2,10,2)))  # Printing the elements present in the range as list"
   ]
  },
  {
   "cell_type": "code",
   "execution_count": 67,
   "id": "e53b6062",
   "metadata": {},
   "outputs": [
    {
     "name": "stdout",
     "output_type": "stream",
     "text": [
      "\n",
      "The below output is Example for enumerate() : \n",
      "\n",
      "(0, 'K')\n",
      "(1, 'a')\n",
      "(2, 'r')\n",
      "(3, 't')\n",
      "(4, 'h')\n",
      "(5, 'i')\n",
      "(6, 'c')\n",
      "(7, 'k')\n",
      "\n",
      "The below output is Example for tuple unpacking : \n",
      "\n",
      "0\n",
      "K\n",
      "\n",
      "\n",
      "1\n",
      "a\n",
      "\n",
      "\n",
      "2\n",
      "r\n",
      "\n",
      "\n",
      "3\n",
      "t\n",
      "\n",
      "\n",
      "4\n",
      "h\n",
      "\n",
      "\n",
      "5\n",
      "i\n",
      "\n",
      "\n",
      "6\n",
      "c\n",
      "\n",
      "\n",
      "7\n",
      "k\n",
      "\n",
      "\n"
     ]
    }
   ],
   "source": [
    "name = \"Karthick\"\n",
    "\n",
    "print(\"\\nThe below output is Example for enumerate() : \\n\")  \n",
    "for char in enumerate(name):   # Example for Enumerate function, This will result as tuple \n",
    "    print(char)\n",
    "    \n",
    "print(\"\\nThe below output is Example for tuple unpacking : \\n\")    \n",
    "for index,char in enumerate(name):\n",
    "    print(index)\n",
    "    print(char)\n",
    "    print('\\n')"
   ]
  },
  {
   "cell_type": "code",
   "execution_count": 69,
   "id": "3ecd9c57",
   "metadata": {},
   "outputs": [
    {
     "name": "stdout",
     "output_type": "stream",
     "text": [
      "(1, 'a')\n",
      "(2, 'b')\n",
      "(3, 'c')\n"
     ]
    }
   ],
   "source": [
    "my_list1=[1,2,3,4,5]                    # Example for ZIP()\n",
    "my_list2=['a','b','c']\n",
    "\n",
    "for item in zip(my_list1,my_list2):     # This will result like tuple, If the size is uneven, it will ignore the rem values\n",
    "    print(item)"
   ]
  },
  {
   "cell_type": "code",
   "execution_count": 70,
   "id": "fc92706d",
   "metadata": {},
   "outputs": [
    {
     "data": {
      "text/plain": [
       "[(1, 'a'), (2, 'b'), (3, 'c')]"
      ]
     },
     "execution_count": 70,
     "metadata": {},
     "output_type": "execute_result"
    }
   ],
   "source": [
    "list(zip(my_list1,my_list2))"
   ]
  },
  {
   "cell_type": "code",
   "execution_count": 71,
   "id": "aa20f20e",
   "metadata": {},
   "outputs": [
    {
     "data": {
      "text/plain": [
       "False"
      ]
     },
     "execution_count": 71,
     "metadata": {},
     "output_type": "execute_result"
    }
   ],
   "source": [
    "my_list = [1,3,5,6]    # Example for IN operator, It will return as Bool. It is used to check the value present in the my_list\n",
    "7 in my_list   "
   ]
  },
  {
   "cell_type": "code",
   "execution_count": 72,
   "id": "ec5ea672",
   "metadata": {},
   "outputs": [
    {
     "data": {
      "text/plain": [
       "True"
      ]
     },
     "execution_count": 72,
     "metadata": {},
     "output_type": "execute_result"
    }
   ],
   "source": [
    "'K' in \"Karthick\"     # Example 2 for IN operator with String"
   ]
  },
  {
   "cell_type": "code",
   "execution_count": 73,
   "id": "79600574",
   "metadata": {},
   "outputs": [
    {
     "data": {
      "text/plain": [
       "False"
      ]
     },
     "execution_count": 73,
     "metadata": {},
     "output_type": "execute_result"
    }
   ],
   "source": [
    "my_tuple = (1,234,4)    # Example 3 for IN operator with tuples\n",
    "233 in my_tuple"
   ]
  },
  {
   "cell_type": "code",
   "execution_count": 74,
   "id": "fadf5efc",
   "metadata": {},
   "outputs": [
    {
     "name": "stdout",
     "output_type": "stream",
     "text": [
      "True\n",
      "False\n"
     ]
    }
   ],
   "source": [
    "my_dict = {'k1':'Hello','k2':'World'}   # Example 4 for IN operator with Dictionary, by default it results based on key\n",
    "print('k1' in my_dict)\n",
    "print('k3' in my_dict)"
   ]
  },
  {
   "cell_type": "code",
   "execution_count": 75,
   "id": "d77caeeb",
   "metadata": {},
   "outputs": [
    {
     "name": "stdout",
     "output_type": "stream",
     "text": [
      "True\n"
     ]
    }
   ],
   "source": [
    "print('World' in my_dict.values())     # This is used to check the World value present in the dictionary"
   ]
  },
  {
   "cell_type": "code",
   "execution_count": 79,
   "id": "e04ed4d3",
   "metadata": {},
   "outputs": [
    {
     "data": {
      "text/plain": [
       "True"
      ]
     },
     "execution_count": 79,
     "metadata": {},
     "output_type": "execute_result"
    }
   ],
   "source": [
    "'k1' in my_dict.keys()      # This is used to check the 'k1' key present in the dictionary"
   ]
  },
  {
   "cell_type": "code",
   "execution_count": 80,
   "id": "e1aaa902",
   "metadata": {},
   "outputs": [
    {
     "name": "stdout",
     "output_type": "stream",
     "text": [
      "1\n",
      "997898\n"
     ]
    }
   ],
   "source": [
    "my_list = [1,10,399,6683,997898]    # This is the example for min(),max() functions in python\n",
    "print(min(my_list))  \n",
    "print(max(my_list))"
   ]
  },
  {
   "cell_type": "markdown",
   "id": "01fb2400",
   "metadata": {},
   "source": [
    "random Library in python :\n",
    "    "
   ]
  },
  {
   "cell_type": "code",
   "execution_count": 81,
   "id": "e30e3e4a",
   "metadata": {},
   "outputs": [],
   "source": [
    "from random import shuffle   # Here 'Shuffle' is a function from 'random' library "
   ]
  },
  {
   "cell_type": "code",
   "execution_count": 83,
   "id": "31be79d1",
   "metadata": {},
   "outputs": [],
   "source": [
    "my_list=[1,2,3,4,5,6,7,8]"
   ]
  },
  {
   "cell_type": "code",
   "execution_count": 86,
   "id": "3dac81de",
   "metadata": {},
   "outputs": [],
   "source": [
    "shuffle(my_list)      # This shuffle function is used to shuffle the list, It is NoneType, returns Nothing"
   ]
  },
  {
   "cell_type": "code",
   "execution_count": 88,
   "id": "28832e1b",
   "metadata": {},
   "outputs": [
    {
     "data": {
      "text/plain": [
       "[8, 2, 3, 1, 4, 5, 7, 6]"
      ]
     },
     "execution_count": 88,
     "metadata": {},
     "output_type": "execute_result"
    }
   ],
   "source": [
    "my_list"
   ]
  },
  {
   "cell_type": "code",
   "execution_count": 89,
   "id": "2df4f035",
   "metadata": {},
   "outputs": [],
   "source": [
    "from random import randint   #  Here 'randint' is a function from 'random' library "
   ]
  },
  {
   "cell_type": "code",
   "execution_count": 93,
   "id": "646636fe",
   "metadata": {},
   "outputs": [
    {
     "name": "stdout",
     "output_type": "stream",
     "text": [
      "57\n"
     ]
    }
   ],
   "source": [
    "rand_value = randint(2,499)  # Here It will give some random integer number inbetween the range \n",
    "print(rand_value)"
   ]
  },
  {
   "cell_type": "code",
   "execution_count": 94,
   "id": "02bb65e1",
   "metadata": {},
   "outputs": [
    {
     "name": "stdout",
     "output_type": "stream",
     "text": [
      "Enter ur name:karthick\n"
     ]
    },
    {
     "data": {
      "text/plain": [
       "'karthick'"
      ]
     },
     "execution_count": 94,
     "metadata": {},
     "output_type": "execute_result"
    }
   ],
   "source": [
    "input(\"Enter ur name:\")   # This input function is used to get the user input, It's default type is str"
   ]
  },
  {
   "cell_type": "code",
   "execution_count": 98,
   "id": "1ab474f4",
   "metadata": {},
   "outputs": [
    {
     "name": "stdout",
     "output_type": "stream",
     "text": [
      "Enter a number 6\n"
     ]
    }
   ],
   "source": [
    "num=int(input(\"Enter a number \")) # This is used to type casting the input to int value"
   ]
  },
  {
   "cell_type": "code",
   "execution_count": 99,
   "id": "d2910cea",
   "metadata": {},
   "outputs": [
    {
     "data": {
      "text/plain": [
       "6"
      ]
     },
     "execution_count": 99,
     "metadata": {},
     "output_type": "execute_result"
    }
   ],
   "source": [
    "num"
   ]
  },
  {
   "cell_type": "markdown",
   "id": "9636c30f",
   "metadata": {},
   "source": [
    "List Comprehensions are a unique way of quickly creating a list in python, This approach is better compared to using for loop with .append() function"
   ]
  },
  {
   "cell_type": "code",
   "execution_count": 102,
   "id": "403b0095",
   "metadata": {},
   "outputs": [],
   "source": [
    "my_list=[]\n",
    "for num in range(2,7,2):     # This is how we normally add values in list \n",
    "    my_list.append(num)"
   ]
  },
  {
   "cell_type": "code",
   "execution_count": 103,
   "id": "c680b1d4",
   "metadata": {},
   "outputs": [
    {
     "data": {
      "text/plain": [
       "[2, 4, 6]"
      ]
     },
     "execution_count": 103,
     "metadata": {},
     "output_type": "execute_result"
    }
   ],
   "source": [
    "my_list"
   ]
  },
  {
   "cell_type": "code",
   "execution_count": 105,
   "id": "a63b0070",
   "metadata": {},
   "outputs": [],
   "source": [
    "# This is alternative way of doing the above code,But It is very hard we can return back after some days, Less readability\n",
    "\n",
    "my_list= [num for num in range(0,7,2)]   # Here num of num is the concept, watch the video for more details"
   ]
  },
  {
   "cell_type": "code",
   "execution_count": 106,
   "id": "91ccde05",
   "metadata": {},
   "outputs": [
    {
     "data": {
      "text/plain": [
       "[0, 2, 4, 6]"
      ]
     },
     "execution_count": 106,
     "metadata": {},
     "output_type": "execute_result"
    }
   ],
   "source": [
    "my_list"
   ]
  },
  {
   "cell_type": "code",
   "execution_count": null,
   "id": "23779887",
   "metadata": {},
   "outputs": [],
   "source": []
  }
 ],
 "metadata": {
  "kernelspec": {
   "display_name": "Python 3 (ipykernel)",
   "language": "python",
   "name": "python3"
  },
  "language_info": {
   "codemirror_mode": {
    "name": "ipython",
    "version": 3
   },
   "file_extension": ".py",
   "mimetype": "text/x-python",
   "name": "python",
   "nbconvert_exporter": "python",
   "pygments_lexer": "ipython3",
   "version": "3.9.7"
  }
 },
 "nbformat": 4,
 "nbformat_minor": 5
}
